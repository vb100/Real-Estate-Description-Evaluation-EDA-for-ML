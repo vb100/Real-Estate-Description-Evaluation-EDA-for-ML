{
 "cells": [
  {
   "cell_type": "markdown",
   "metadata": {},
   "source": [
    "<h1><u>Zoopla properties [SALES]: description evaluation</u></h1>"
   ]
  },
  {
   "cell_type": "markdown",
   "metadata": {},
   "source": [
    "<h2>- Upload data</h2>"
   ]
  },
  {
   "cell_type": "markdown",
   "metadata": {},
   "source": [
    "<b><i>#01 Import modules and libraries</i></b>"
   ]
  },
  {
   "cell_type": "code",
   "execution_count": 64,
   "metadata": {},
   "outputs": [],
   "source": [
    "import numpy as np\n",
    "import matplotlib.pyplot as plt\n",
    "import pandas as pd"
   ]
  },
  {
   "cell_type": "markdown",
   "metadata": {},
   "source": [
    "<b><i>#02 Import the dataset</i></b>"
   ]
  },
  {
   "cell_type": "code",
   "execution_count": 65,
   "metadata": {},
   "outputs": [],
   "source": [
    "dataset = pd.read_csv('TrainingSet_WD_20180628.csv')\n",
    "X = dataset.iloc[:, [1, 2, 3, 4, 5, 6, 7, 8, 9, 10, 11, 12, 13, 14, 15]].values\n",
    "#y_train = dataset.iloc[:, 14].values"
   ]
  },
  {
   "cell_type": "code",
   "execution_count": 66,
   "metadata": {
    "scrolled": true
   },
   "outputs": [
    {
     "data": {
      "text/html": [
       "<div>\n",
       "<style scoped>\n",
       "    .dataframe tbody tr th:only-of-type {\n",
       "        vertical-align: middle;\n",
       "    }\n",
       "\n",
       "    .dataframe tbody tr th {\n",
       "        vertical-align: top;\n",
       "    }\n",
       "\n",
       "    .dataframe thead th {\n",
       "        text-align: right;\n",
       "    }\n",
       "</style>\n",
       "<table border=\"1\" class=\"dataframe\">\n",
       "  <thead>\n",
       "    <tr style=\"text-align: right;\">\n",
       "      <th></th>\n",
       "      <th>Unnamed: 0</th>\n",
       "      <th>ID</th>\n",
       "      <th>AREA</th>\n",
       "      <th>ADDRESS</th>\n",
       "      <th>BEDROOMS</th>\n",
       "      <th>BATHROOMS</th>\n",
       "      <th>RECEPTION</th>\n",
       "      <th>SIZE</th>\n",
       "      <th>FIRST LISTED</th>\n",
       "      <th>ORIGINAL PRICE</th>\n",
       "      <th>CURRENT PRICE</th>\n",
       "      <th>WEB</th>\n",
       "      <th>FLOORPLAN LINK</th>\n",
       "      <th>New</th>\n",
       "      <th>NUMBER OF CLOSEST STATIONS</th>\n",
       "      <th>MIN. DISTANCE TO THE STATION</th>\n",
       "    </tr>\n",
       "  </thead>\n",
       "  <tbody>\n",
       "    <tr>\n",
       "      <th>0</th>\n",
       "      <td>0</td>\n",
       "      <td>48155752</td>\n",
       "      <td>NaN</td>\n",
       "      <td>Union Park, Packet Boat Lane, Cowley UB8</td>\n",
       "      <td>0.0</td>\n",
       "      <td>1.0</td>\n",
       "      <td>1.0</td>\n",
       "      <td>0.0</td>\n",
       "      <td>7th Jun 2018</td>\n",
       "      <td>260000</td>\n",
       "      <td>260000</td>\n",
       "      <td>https://www.zoopla.co.uk/for-sale/details/4815...</td>\n",
       "      <td>NaN</td>\n",
       "      <td>New</td>\n",
       "      <td>2</td>\n",
       "      <td>0.8</td>\n",
       "    </tr>\n",
       "    <tr>\n",
       "      <th>1</th>\n",
       "      <td>1</td>\n",
       "      <td>48153665</td>\n",
       "      <td>NaN</td>\n",
       "      <td>Moorfield Road, Cowley, Middlesex UB8</td>\n",
       "      <td>4.0</td>\n",
       "      <td>0.0</td>\n",
       "      <td>0.0</td>\n",
       "      <td>0.0</td>\n",
       "      <td>7th Jun 2018</td>\n",
       "      <td>610000</td>\n",
       "      <td>610000</td>\n",
       "      <td>https://www.zoopla.co.uk/for-sale/details/4815...</td>\n",
       "      <td>https://c.zoocdn.com/dynimgs/listings/resized/...</td>\n",
       "      <td>New</td>\n",
       "      <td>2</td>\n",
       "      <td>0.7</td>\n",
       "    </tr>\n",
       "    <tr>\n",
       "      <th>2</th>\n",
       "      <td>2</td>\n",
       "      <td>48150822</td>\n",
       "      <td>West Drayton</td>\n",
       "      <td>Hawthorne Crescent, West Drayton, Middlesex UB7</td>\n",
       "      <td>1.0</td>\n",
       "      <td>0.0</td>\n",
       "      <td>0.0</td>\n",
       "      <td>0.0</td>\n",
       "      <td>7th Jun 2018</td>\n",
       "      <td>249950</td>\n",
       "      <td>249950</td>\n",
       "      <td>https://www.zoopla.co.uk/for-sale/details/4815...</td>\n",
       "      <td>https://c.zoocdn.com/dynimgs/listings/resized/...</td>\n",
       "      <td>New</td>\n",
       "      <td>2</td>\n",
       "      <td>0.4</td>\n",
       "    </tr>\n",
       "    <tr>\n",
       "      <th>3</th>\n",
       "      <td>3</td>\n",
       "      <td>48149509</td>\n",
       "      <td>West Drayton</td>\n",
       "      <td>1 South Road, West Drayton UB7</td>\n",
       "      <td>3.0</td>\n",
       "      <td>1.0</td>\n",
       "      <td>1.0</td>\n",
       "      <td>0.0</td>\n",
       "      <td>7th Jun 2018</td>\n",
       "      <td>450000</td>\n",
       "      <td>450000</td>\n",
       "      <td>https://www.zoopla.co.uk/for-sale/details/4814...</td>\n",
       "      <td>https://c.zoocdn.com/dynimgs/listings/resized/...</td>\n",
       "      <td>New</td>\n",
       "      <td>2</td>\n",
       "      <td>0.8</td>\n",
       "    </tr>\n",
       "  </tbody>\n",
       "</table>\n",
       "</div>"
      ],
      "text/plain": [
       "   Unnamed: 0        ID          AREA  \\\n",
       "0           0  48155752           NaN   \n",
       "1           1  48153665           NaN   \n",
       "2           2  48150822  West Drayton   \n",
       "3           3  48149509  West Drayton   \n",
       "\n",
       "                                           ADDRESS  BEDROOMS  BATHROOMS  \\\n",
       "0         Union Park, Packet Boat Lane, Cowley UB8       0.0        1.0   \n",
       "1            Moorfield Road, Cowley, Middlesex UB8       4.0        0.0   \n",
       "2  Hawthorne Crescent, West Drayton, Middlesex UB7       1.0        0.0   \n",
       "3                   1 South Road, West Drayton UB7       3.0        1.0   \n",
       "\n",
       "   RECEPTION  SIZE  FIRST LISTED ORIGINAL PRICE CURRENT PRICE  \\\n",
       "0        1.0   0.0  7th Jun 2018         260000        260000   \n",
       "1        0.0   0.0  7th Jun 2018         610000        610000   \n",
       "2        0.0   0.0  7th Jun 2018         249950        249950   \n",
       "3        1.0   0.0  7th Jun 2018         450000        450000   \n",
       "\n",
       "                                                 WEB  \\\n",
       "0  https://www.zoopla.co.uk/for-sale/details/4815...   \n",
       "1  https://www.zoopla.co.uk/for-sale/details/4815...   \n",
       "2  https://www.zoopla.co.uk/for-sale/details/4815...   \n",
       "3  https://www.zoopla.co.uk/for-sale/details/4814...   \n",
       "\n",
       "                                      FLOORPLAN LINK  New  \\\n",
       "0                                                NaN  New   \n",
       "1  https://c.zoocdn.com/dynimgs/listings/resized/...  New   \n",
       "2  https://c.zoocdn.com/dynimgs/listings/resized/...  New   \n",
       "3  https://c.zoocdn.com/dynimgs/listings/resized/...  New   \n",
       "\n",
       "   NUMBER OF CLOSEST STATIONS  MIN. DISTANCE TO THE STATION  \n",
       "0                           2                           0.8  \n",
       "1                           2                           0.7  \n",
       "2                           2                           0.4  \n",
       "3                           2                           0.8  "
      ]
     },
     "execution_count": 66,
     "metadata": {},
     "output_type": "execute_result"
    }
   ],
   "source": [
    "dataset.head(4)"
   ]
  },
  {
   "cell_type": "code",
   "execution_count": 67,
   "metadata": {},
   "outputs": [
    {
     "data": {
      "text/plain": [
       "array([48155752, nan, 'Union Park, Packet Boat Lane, Cowley UB8', 0.0,\n",
       "       1.0, 1.0, 0.0, '7th Jun 2018', '260000', '260000',\n",
       "       'https://www.zoopla.co.uk/for-sale/details/48155752', nan, 'New',\n",
       "       2, 0.8], dtype=object)"
      ]
     },
     "execution_count": 67,
     "metadata": {},
     "output_type": "execute_result"
    }
   ],
   "source": [
    "X[0]"
   ]
  },
  {
   "cell_type": "code",
   "execution_count": 68,
   "metadata": {},
   "outputs": [
    {
     "data": {
      "text/plain": [
       "'260000'"
      ]
     },
     "execution_count": 68,
     "metadata": {},
     "output_type": "execute_result"
    }
   ],
   "source": [
    "X[0][8]"
   ]
  },
  {
   "cell_type": "code",
   "execution_count": 69,
   "metadata": {},
   "outputs": [
    {
     "name": "stdout",
     "output_type": "stream",
     "text": [
      "The raw data-set has 211 records.\n"
     ]
    }
   ],
   "source": [
    "print(\"The raw data-set has {} records.\".format(len(dataset)))"
   ]
  },
  {
   "cell_type": "markdown",
   "metadata": {},
   "source": [
    "<h2>- Scan descriptions</h2>"
   ]
  },
  {
   "cell_type": "markdown",
   "metadata": {},
   "source": [
    "<b># Upload Bag of Words (BOW)</b>"
   ]
  },
  {
   "cell_type": "code",
   "execution_count": 70,
   "metadata": {},
   "outputs": [
    {
     "name": "stdout",
     "output_type": "stream",
     "text": [
      "                  0     1\n",
      "0     new refurbish  0.90\n",
      "1       new develop  0.80\n",
      "2          crossrai  0.40\n",
      "3     superly place  0.40\n",
      "4         new built  0.70\n",
      "5         new build  0.70\n",
      "6   convienent flat  0.20\n",
      "7     larger family  0.25\n",
      "8       family bath  0.15\n",
      "9      luxury apart  0.30\n",
      "10     walking dist  0.70\n"
     ]
    }
   ],
   "source": [
    "bow = pd.read_csv('bag_of_words.csv', header=None)\n",
    "print(bow)"
   ]
  },
  {
   "cell_type": "markdown",
   "metadata": {},
   "source": [
    "<b># Calculate weights for training set description</b>"
   ]
  },
  {
   "cell_type": "code",
   "execution_count": 71,
   "metadata": {},
   "outputs": [],
   "source": [
    "bow.insert(2, 'Counter', 0)"
   ]
  },
  {
   "cell_type": "code",
   "execution_count": 72,
   "metadata": {},
   "outputs": [
    {
     "data": {
      "text/html": [
       "<div>\n",
       "<style scoped>\n",
       "    .dataframe tbody tr th:only-of-type {\n",
       "        vertical-align: middle;\n",
       "    }\n",
       "\n",
       "    .dataframe tbody tr th {\n",
       "        vertical-align: top;\n",
       "    }\n",
       "\n",
       "    .dataframe thead th {\n",
       "        text-align: right;\n",
       "    }\n",
       "</style>\n",
       "<table border=\"1\" class=\"dataframe\">\n",
       "  <thead>\n",
       "    <tr style=\"text-align: right;\">\n",
       "      <th></th>\n",
       "      <th>0</th>\n",
       "      <th>1</th>\n",
       "      <th>Counter</th>\n",
       "    </tr>\n",
       "  </thead>\n",
       "  <tbody>\n",
       "    <tr>\n",
       "      <th>0</th>\n",
       "      <td>new refurbish</td>\n",
       "      <td>0.90</td>\n",
       "      <td>0</td>\n",
       "    </tr>\n",
       "    <tr>\n",
       "      <th>1</th>\n",
       "      <td>new develop</td>\n",
       "      <td>0.80</td>\n",
       "      <td>0</td>\n",
       "    </tr>\n",
       "    <tr>\n",
       "      <th>2</th>\n",
       "      <td>crossrai</td>\n",
       "      <td>0.40</td>\n",
       "      <td>0</td>\n",
       "    </tr>\n",
       "    <tr>\n",
       "      <th>3</th>\n",
       "      <td>superly place</td>\n",
       "      <td>0.40</td>\n",
       "      <td>0</td>\n",
       "    </tr>\n",
       "    <tr>\n",
       "      <th>4</th>\n",
       "      <td>new built</td>\n",
       "      <td>0.70</td>\n",
       "      <td>0</td>\n",
       "    </tr>\n",
       "    <tr>\n",
       "      <th>5</th>\n",
       "      <td>new build</td>\n",
       "      <td>0.70</td>\n",
       "      <td>0</td>\n",
       "    </tr>\n",
       "    <tr>\n",
       "      <th>6</th>\n",
       "      <td>convienent flat</td>\n",
       "      <td>0.20</td>\n",
       "      <td>0</td>\n",
       "    </tr>\n",
       "    <tr>\n",
       "      <th>7</th>\n",
       "      <td>larger family</td>\n",
       "      <td>0.25</td>\n",
       "      <td>0</td>\n",
       "    </tr>\n",
       "    <tr>\n",
       "      <th>8</th>\n",
       "      <td>family bath</td>\n",
       "      <td>0.15</td>\n",
       "      <td>0</td>\n",
       "    </tr>\n",
       "    <tr>\n",
       "      <th>9</th>\n",
       "      <td>luxury apart</td>\n",
       "      <td>0.30</td>\n",
       "      <td>0</td>\n",
       "    </tr>\n",
       "    <tr>\n",
       "      <th>10</th>\n",
       "      <td>walking dist</td>\n",
       "      <td>0.70</td>\n",
       "      <td>0</td>\n",
       "    </tr>\n",
       "  </tbody>\n",
       "</table>\n",
       "</div>"
      ],
      "text/plain": [
       "                  0     1  Counter\n",
       "0     new refurbish  0.90        0\n",
       "1       new develop  0.80        0\n",
       "2          crossrai  0.40        0\n",
       "3     superly place  0.40        0\n",
       "4         new built  0.70        0\n",
       "5         new build  0.70        0\n",
       "6   convienent flat  0.20        0\n",
       "7     larger family  0.25        0\n",
       "8       family bath  0.15        0\n",
       "9      luxury apart  0.30        0\n",
       "10     walking dist  0.70        0"
      ]
     },
     "execution_count": 72,
     "metadata": {},
     "output_type": "execute_result"
    }
   ],
   "source": [
    "bow"
   ]
  },
  {
   "cell_type": "markdown",
   "metadata": {},
   "source": [
    "<b># Add <code>Description</code> column to <code>dataset</code>.</b>"
   ]
  },
  {
   "cell_type": "code",
   "execution_count": 73,
   "metadata": {},
   "outputs": [],
   "source": [
    "dataset.insert(dataset.columns.get_loc('CURRENT PRICE')+1, 'Description', '')"
   ]
  },
  {
   "cell_type": "code",
   "execution_count": 74,
   "metadata": {},
   "outputs": [
    {
     "data": {
      "text/html": [
       "<div>\n",
       "<style scoped>\n",
       "    .dataframe tbody tr th:only-of-type {\n",
       "        vertical-align: middle;\n",
       "    }\n",
       "\n",
       "    .dataframe tbody tr th {\n",
       "        vertical-align: top;\n",
       "    }\n",
       "\n",
       "    .dataframe thead th {\n",
       "        text-align: right;\n",
       "    }\n",
       "</style>\n",
       "<table border=\"1\" class=\"dataframe\">\n",
       "  <thead>\n",
       "    <tr style=\"text-align: right;\">\n",
       "      <th></th>\n",
       "      <th>Unnamed: 0</th>\n",
       "      <th>ID</th>\n",
       "      <th>AREA</th>\n",
       "      <th>ADDRESS</th>\n",
       "      <th>BEDROOMS</th>\n",
       "      <th>BATHROOMS</th>\n",
       "      <th>RECEPTION</th>\n",
       "      <th>SIZE</th>\n",
       "      <th>FIRST LISTED</th>\n",
       "      <th>ORIGINAL PRICE</th>\n",
       "      <th>CURRENT PRICE</th>\n",
       "      <th>Description</th>\n",
       "      <th>WEB</th>\n",
       "      <th>FLOORPLAN LINK</th>\n",
       "      <th>New</th>\n",
       "      <th>NUMBER OF CLOSEST STATIONS</th>\n",
       "      <th>MIN. DISTANCE TO THE STATION</th>\n",
       "    </tr>\n",
       "  </thead>\n",
       "  <tbody>\n",
       "    <tr>\n",
       "      <th>0</th>\n",
       "      <td>0</td>\n",
       "      <td>48155752</td>\n",
       "      <td>NaN</td>\n",
       "      <td>Union Park, Packet Boat Lane, Cowley UB8</td>\n",
       "      <td>0.0</td>\n",
       "      <td>1.0</td>\n",
       "      <td>1.0</td>\n",
       "      <td>0.0</td>\n",
       "      <td>7th Jun 2018</td>\n",
       "      <td>260000</td>\n",
       "      <td>260000</td>\n",
       "      <td></td>\n",
       "      <td>https://www.zoopla.co.uk/for-sale/details/4815...</td>\n",
       "      <td>NaN</td>\n",
       "      <td>New</td>\n",
       "      <td>2</td>\n",
       "      <td>0.8</td>\n",
       "    </tr>\n",
       "    <tr>\n",
       "      <th>1</th>\n",
       "      <td>1</td>\n",
       "      <td>48153665</td>\n",
       "      <td>NaN</td>\n",
       "      <td>Moorfield Road, Cowley, Middlesex UB8</td>\n",
       "      <td>4.0</td>\n",
       "      <td>0.0</td>\n",
       "      <td>0.0</td>\n",
       "      <td>0.0</td>\n",
       "      <td>7th Jun 2018</td>\n",
       "      <td>610000</td>\n",
       "      <td>610000</td>\n",
       "      <td></td>\n",
       "      <td>https://www.zoopla.co.uk/for-sale/details/4815...</td>\n",
       "      <td>https://c.zoocdn.com/dynimgs/listings/resized/...</td>\n",
       "      <td>New</td>\n",
       "      <td>2</td>\n",
       "      <td>0.7</td>\n",
       "    </tr>\n",
       "    <tr>\n",
       "      <th>2</th>\n",
       "      <td>2</td>\n",
       "      <td>48150822</td>\n",
       "      <td>West Drayton</td>\n",
       "      <td>Hawthorne Crescent, West Drayton, Middlesex UB7</td>\n",
       "      <td>1.0</td>\n",
       "      <td>0.0</td>\n",
       "      <td>0.0</td>\n",
       "      <td>0.0</td>\n",
       "      <td>7th Jun 2018</td>\n",
       "      <td>249950</td>\n",
       "      <td>249950</td>\n",
       "      <td></td>\n",
       "      <td>https://www.zoopla.co.uk/for-sale/details/4815...</td>\n",
       "      <td>https://c.zoocdn.com/dynimgs/listings/resized/...</td>\n",
       "      <td>New</td>\n",
       "      <td>2</td>\n",
       "      <td>0.4</td>\n",
       "    </tr>\n",
       "  </tbody>\n",
       "</table>\n",
       "</div>"
      ],
      "text/plain": [
       "   Unnamed: 0        ID          AREA  \\\n",
       "0           0  48155752           NaN   \n",
       "1           1  48153665           NaN   \n",
       "2           2  48150822  West Drayton   \n",
       "\n",
       "                                           ADDRESS  BEDROOMS  BATHROOMS  \\\n",
       "0         Union Park, Packet Boat Lane, Cowley UB8       0.0        1.0   \n",
       "1            Moorfield Road, Cowley, Middlesex UB8       4.0        0.0   \n",
       "2  Hawthorne Crescent, West Drayton, Middlesex UB7       1.0        0.0   \n",
       "\n",
       "   RECEPTION  SIZE  FIRST LISTED ORIGINAL PRICE CURRENT PRICE Description  \\\n",
       "0        1.0   0.0  7th Jun 2018         260000        260000               \n",
       "1        0.0   0.0  7th Jun 2018         610000        610000               \n",
       "2        0.0   0.0  7th Jun 2018         249950        249950               \n",
       "\n",
       "                                                 WEB  \\\n",
       "0  https://www.zoopla.co.uk/for-sale/details/4815...   \n",
       "1  https://www.zoopla.co.uk/for-sale/details/4815...   \n",
       "2  https://www.zoopla.co.uk/for-sale/details/4815...   \n",
       "\n",
       "                                      FLOORPLAN LINK  New  \\\n",
       "0                                                NaN  New   \n",
       "1  https://c.zoocdn.com/dynimgs/listings/resized/...  New   \n",
       "2  https://c.zoocdn.com/dynimgs/listings/resized/...  New   \n",
       "\n",
       "   NUMBER OF CLOSEST STATIONS  MIN. DISTANCE TO THE STATION  \n",
       "0                           2                           0.8  \n",
       "1                           2                           0.7  \n",
       "2                           2                           0.4  "
      ]
     },
     "execution_count": 74,
     "metadata": {},
     "output_type": "execute_result"
    }
   ],
   "source": [
    "dataset.head(3)"
   ]
  },
  {
   "cell_type": "code",
   "execution_count": 75,
   "metadata": {},
   "outputs": [
    {
     "name": "stdout",
     "output_type": "stream",
     "text": [
      "The index of column <Description> is 11.\n"
     ]
    }
   ],
   "source": [
    "index_of_description = dataset.columns.get_loc('Description')\n",
    "print('The index of column <Description> is {}.'.format(index_of_description))"
   ]
  },
  {
   "cell_type": "code",
   "execution_count": 76,
   "metadata": {},
   "outputs": [
    {
     "data": {
      "text/plain": [
       "'https://www.zoopla.co.uk/for-sale/details/48117769'"
      ]
     },
     "execution_count": 76,
     "metadata": {},
     "output_type": "execute_result"
    }
   ],
   "source": [
    "X[9][10]"
   ]
  },
  {
   "cell_type": "code",
   "execution_count": 79,
   "metadata": {},
   "outputs": [
    {
     "name": "stdout",
     "output_type": "stream",
     "text": [
      "-- keyword found: crossrai\n",
      "-- keyword found: family bath\n",
      "-- keyword found: walking dist\n",
      "-- keyword found: crossrai\n",
      "-- keyword found: family bath\n",
      "-- keyword found: crossrai\n",
      "-- keyword found: family bath\n",
      "-- keyword found: family bath\n",
      "-- keyword found: crossrai\n",
      "-- keyword found: crossrai\n",
      "-- keyword found: family bath\n",
      "-- keyword found: crossrai\n",
      "-- keyword found: crossrai\n",
      "-- keyword found: walking dist\n",
      "-- keyword found: crossrai\n",
      "-- keyword found: crossrai\n",
      "-- keyword found: family bath\n",
      "-- keyword found: walking dist\n",
      "-- keyword found: crossrai\n",
      "-- keyword found: family bath\n",
      "-- keyword found: walking dist\n",
      "-- keyword found: crossrai\n",
      "-- keyword found: crossrai\n",
      "-- keyword found: crossrai\n",
      "-- keyword found: crossrai\n",
      "-- keyword found: family bath\n",
      "-- keyword found: walking dist\n",
      "-- keyword found: crossrai\n",
      "-- keyword found: family bath\n",
      "-- keyword found: walking dist\n",
      "-- keyword found: crossrai\n",
      "-- keyword found: luxury apart\n",
      "-- keyword found: crossrai\n",
      "-- keyword found: family bath\n",
      "-- keyword found: walking dist\n",
      "-- keyword found: crossrai\n",
      "-- keyword found: walking dist\n",
      "-- keyword found: crossrai\n",
      "-- keyword found: crossrai\n",
      "-- keyword found: crossrai\n",
      "-- keyword found: crossrai\n",
      "-- keyword found: crossrai\n",
      "-- keyword found: family bath\n",
      "-- keyword found: family bath\n",
      "-- keyword found: crossrai\n",
      "-- keyword found: crossrai\n",
      "-- keyword found: crossrai\n",
      "-- keyword found: walking dist\n",
      "-- keyword found: crossrai\n",
      "-- keyword found: crossrai\n",
      "-- keyword found: crossrai\n",
      "-- keyword found: crossrai\n",
      "-- keyword found: crossrai\n",
      "-- keyword found: walking dist\n",
      "-- keyword found: crossrai\n",
      "-- keyword found: family bath\n",
      "-- keyword found: walking dist\n",
      "-- keyword found: crossrai\n",
      "-- keyword found: family bath\n",
      "-- keyword found: crossrai\n",
      "-- keyword found: luxury apart\n",
      "-- keyword found: walking dist\n",
      "-- keyword found: crossrai\n",
      "-- keyword found: crossrai\n",
      "-- keyword found: family bath\n",
      "-- keyword found: crossrai\n",
      "-- keyword found: walking dist\n",
      "-- keyword found: walking dist\n",
      "-- keyword found: crossrai\n",
      "-- keyword found: walking dist\n",
      "-- keyword found: crossrai\n",
      "-- keyword found: walking dist\n",
      "-- keyword found: crossrai\n",
      "-- keyword found: crossrai\n",
      "-- keyword found: family bath\n",
      "-- keyword found: crossrai\n",
      "-- keyword found: family bath\n",
      "-- keyword found: walking dist\n",
      "-- keyword found: family bath\n",
      "-- keyword found: family bath\n",
      "-- keyword found: walking dist\n",
      "-- keyword found: crossrai\n",
      "-- keyword found: family bath\n",
      "-- keyword found: family bath\n",
      "-- keyword found: crossrai\n",
      "-- keyword found: family bath\n",
      "-- keyword found: walking dist\n",
      "-- keyword found: crossrai\n",
      "-- keyword found: crossrai\n",
      "-- keyword found: luxury apart\n",
      "-- keyword found: crossrai\n",
      "-- keyword found: luxury apart\n",
      "-- keyword found: crossrai\n",
      "-- keyword found: luxury apart\n",
      "-- keyword found: crossrai\n",
      "-- keyword found: luxury apart\n",
      "-- keyword found: crossrai\n",
      "-- keyword found: luxury apart\n",
      "-- keyword found: crossrai\n",
      "-- keyword found: family bath\n",
      "-- keyword found: crossrai\n",
      "-- keyword found: walking dist\n",
      "-- keyword found: crossrai\n",
      "-- keyword found: crossrai\n",
      "-- keyword found: crossrai\n",
      "-- keyword found: walking dist\n",
      "-- keyword found: crossrai\n",
      "-- keyword found: walking dist\n",
      "-- keyword found: crossrai\n",
      "-- keyword found: family bath\n",
      "-- keyword found: crossrai\n",
      "-- keyword found: family bath\n",
      "-- keyword found: crossrai\n",
      "-- keyword found: family bath\n",
      "-- keyword found: crossrai\n",
      "-- keyword found: family bath\n",
      "-- keyword found: walking dist\n",
      "-- keyword found: crossrai\n",
      "-- keyword found: family bath\n",
      "-- keyword found: crossrai\n",
      "-- keyword found: crossrai\n",
      "-- keyword found: family bath\n",
      "-- keyword found: walking dist\n",
      "-- keyword found: crossrai\n",
      "-- keyword found: family bath\n",
      "-- keyword found: crossrai\n",
      "-- keyword found: crossrai\n",
      "-- keyword found: walking dist\n",
      "-- keyword found: crossrai\n",
      "-- keyword found: family bath\n",
      "-- keyword found: crossrai\n",
      "-- keyword found: crossrai\n",
      "-- keyword found: walking dist\n",
      "-- keyword found: crossrai\n",
      "-- keyword found: family bath\n",
      "-- keyword found: crossrai\n",
      "-- keyword found: family bath\n",
      "-- keyword found: crossrai\n",
      "-- keyword found: walking dist\n",
      "-- keyword found: family bath\n",
      "-- keyword found: family bath\n",
      "-- keyword found: family bath\n",
      "-- keyword found: family bath\n",
      "-- keyword found: family bath\n",
      "-- keyword found: crossrai\n",
      "-- keyword found: family bath\n",
      "-- keyword found: crossrai\n",
      "-- keyword found: crossrai\n",
      "-- keyword found: luxury apart\n",
      "-- keyword found: crossrai\n",
      "-- keyword found: crossrai\n",
      "-- keyword found: crossrai\n",
      "-- keyword found: family bath\n",
      "-- keyword found: crossrai\n",
      "-- keyword found: crossrai\n",
      "-- keyword found: crossrai\n",
      "-- keyword found: crossrai\n",
      "-- keyword found: family bath\n",
      "-- keyword found: crossrai\n",
      "-- keyword found: family bath\n",
      "-- keyword found: crossrai\n",
      "-- keyword found: family bath\n",
      "-- keyword found: crossrai\n",
      "-- keyword found: family bath\n",
      "-- keyword found: walking dist\n",
      "-- keyword found: family bath\n",
      "-- keyword found: crossrai\n",
      "-- keyword found: family bath\n",
      "-- keyword found: crossrai\n",
      "-- keyword found: crossrai\n",
      "-- keyword found: crossrai\n",
      "-- keyword found: family bath\n",
      "-- keyword found: crossrai\n",
      "-- keyword found: crossrai\n",
      "-- keyword found: crossrai\n",
      "-- keyword found: luxury apart\n",
      "-- keyword found: crossrai\n",
      "-- keyword found: walking dist\n",
      "-- keyword found: crossrai\n",
      "-- keyword found: walking dist\n",
      "-- keyword found: crossrai\n",
      "-- keyword found: crossrai\n",
      "-- keyword found: family bath\n",
      "-- keyword found: luxury apart\n",
      "-- keyword found: family bath\n",
      "-- keyword found: crossrai\n",
      "-- keyword found: walking dist\n",
      "-- keyword found: crossrai\n",
      "-- keyword found: family bath\n",
      "-- keyword found: crossrai\n",
      "-- keyword found: family bath\n",
      "-- keyword found: family bath\n",
      "-- keyword found: family bath\n",
      "-- keyword found: walking dist\n",
      "-- keyword found: family bath\n",
      "-- keyword found: crossrai\n",
      "-- keyword found: family bath\n",
      "-- keyword found: walking dist\n",
      "-- keyword found: family bath\n",
      "-- keyword found: crossrai\n",
      "-- keyword found: walking dist\n",
      "-- keyword found: crossrai\n",
      "-- keyword found: family bath\n",
      "-- keyword found: crossrai\n",
      "-- keyword found: crossrai\n",
      "-- keyword found: family bath\n",
      "-- keyword found: crossrai\n",
      "-- keyword found: luxury apart\n",
      "-- keyword found: crossrai\n",
      "-- keyword found: walking dist\n",
      "-- keyword found: family bath\n",
      "-- keyword found: family bath\n",
      "-- keyword found: luxury apart\n",
      "-- keyword found: family bath\n",
      "-- keyword found: crossrai\n",
      "-- keyword found: walking dist\n",
      "-- keyword found: crossrai\n",
      "-- keyword found: family bath\n",
      "-- keyword found: crossrai\n",
      "-- keyword found: crossrai\n",
      "-- keyword found: crossrai\n",
      "-- keyword found: crossrai\n",
      "-- keyword found: crossrai\n",
      "-- keyword found: walking dist\n",
      "-- keyword found: family bath\n",
      "-- keyword found: crossrai\n",
      "-- keyword found: family bath\n",
      "-- keyword found: walking dist\n",
      "-- keyword found: crossrai\n",
      "-- keyword found: family bath\n",
      "-- keyword found: family bath\n",
      "-- keyword found: family bath\n",
      "-- keyword found: family bath\n"
     ]
    }
   ],
   "source": [
    "import requests, re, os\n",
    "import pandas as pd\n",
    "from bs4 import BeautifulSoup\n",
    "\n",
    "evaluations =  []\n",
    "descriptions = []\n",
    "\n",
    "for this_property in range(0, len(dataset), 1):\n",
    "    #print(X[this_property][6])\n",
    "    web = X[this_property][10]\n",
    "    # print(web, ':')\n",
    "    r = requests.get(web)\n",
    "    c = r.content\n",
    "    soup = BeautifulSoup(c, \"html.parser\")\n",
    "    \n",
    "    evaluation = 0.0\n",
    "    \n",
    "    try:\n",
    "        description = soup.find(\"div\", {\"class\":\"top\"}).text.replace(\"\\n\", \"\")\n",
    "        dataset.iat[this_property, index_of_description] = description\n",
    "        \n",
    "        descriptions.append(description)\n",
    "        \n",
    "        description = description.upper().replace(' ', '')\n",
    "        \n",
    "        for word in range(0, len(bow), 1):\n",
    "            if bow.iat[word, 0].upper().replace(' ', '') in description:\n",
    "                evaluation = evaluation + float(bow.iat[word, 1])\n",
    "                print('-- keyword found: {}'.format(bow.iat[word, 0]))\n",
    "                \n",
    "                bow.iat[word, bow.columns.get_loc('Counter')] = bow.iat[word, bow.columns.get_loc('Counter')] + 1\n",
    "            \n",
    "        evaluations.append(evaluation)\n",
    "    \n",
    "        #if evaluation != 0:\n",
    "        #    print(web)\n",
    "    except:\n",
    "        try:          \n",
    "            description = soup.find('div', {'class':'dp-description__text'}).text.replace('\\n', '')\n",
    "            dataset.iat[this_property, index_of_description] = description\n",
    "            \n",
    "            descriptions.append(description)\n",
    "            \n",
    "            description = description.upper().replace(' ', '')\n",
    "\n",
    "            for word in range(0, len(bow), 1):\n",
    "                if bow.iat[word, 0].upper().replace(' ', '') in description:\n",
    "                    evaluation = evaluation + float(bow.iat[word, 1])\n",
    "                    print('-- keyword found: {}'.format(bow.iat[word, 0]))\n",
    "\n",
    "                    bow.iat[word, bow.columns.get_loc('Counter')] = bow.iat[word, bow.columns.get_loc('Counter')] + 1  \n",
    "            \n",
    "            evaluations.append(evaluation)\n",
    "            \n",
    "            #if evaluation != 0:\n",
    "            #    print(web)           \n",
    "        except:\n",
    "            print('Description not found.')\n",
    "        \n",
    "        "
   ]
  },
  {
   "cell_type": "markdown",
   "metadata": {},
   "source": [
    "<b>#Convert descriptions to <code>Numpy array</code> for variable <code>descriptions_np</code>.</b>"
   ]
  },
  {
   "cell_type": "code",
   "execution_count": 80,
   "metadata": {},
   "outputs": [],
   "source": [
    "descriptions_np = np.asarray(descriptions)"
   ]
  },
  {
   "cell_type": "markdown",
   "metadata": {},
   "source": [
    "<b># Convert evaluations to <code>Numpy array</code> for variable <code>evaluations_np</code>.</b>"
   ]
  },
  {
   "cell_type": "code",
   "execution_count": 81,
   "metadata": {},
   "outputs": [],
   "source": [
    "evaluations_np = np.asarray(evaluations)"
   ]
  },
  {
   "cell_type": "code",
   "execution_count": 82,
   "metadata": {},
   "outputs": [
    {
     "data": {
      "text/plain": [
       "array([0.  , 1.25, 0.4 , 0.15, 0.  , 0.4 , 0.  , 0.15, 0.15, 0.4 , 0.55,\n",
       "       0.4 , 0.  , 1.1 , 0.4 , 0.  , 0.4 , 0.15, 0.7 , 1.25, 0.4 , 0.4 ,\n",
       "       0.4 , 1.25, 0.  , 1.25, 0.  , 0.  , 0.7 , 1.25, 0.  , 0.  , 1.1 ,\n",
       "       0.  , 0.  , 0.4 , 0.  , 0.4 , 0.4 , 0.4 , 0.4 , 0.15, 0.15, 0.4 ,\n",
       "       0.4 , 1.1 , 0.4 , 0.4 , 0.4 , 0.4 , 0.4 , 0.  , 0.7 , 1.25, 0.  ,\n",
       "       0.55, 1.4 , 0.4 , 0.55, 1.1 , 0.  , 0.7 , 1.1 , 1.1 , 0.4 , 0.55,\n",
       "       1.25, 0.15, 0.85, 0.55, 0.15, 1.25, 0.  , 0.4 , 0.7 , 0.7 , 0.7 ,\n",
       "       0.7 , 0.7 , 0.55, 1.1 , 0.4 , 0.4 , 1.1 , 1.1 , 0.  , 0.  , 0.  ,\n",
       "       0.  , 0.55, 0.55, 0.55, 1.25, 0.55, 0.4 , 0.  , 0.  , 0.  , 1.25,\n",
       "       0.55, 0.4 , 1.1 , 0.55, 0.  , 0.4 , 1.1 , 0.55, 0.55, 1.1 , 0.15,\n",
       "       0.15, 0.  , 0.15, 0.  , 0.  , 0.  , 0.  , 0.  , 0.15, 0.15, 0.55,\n",
       "       0.  , 0.4 , 0.4 , 0.3 , 0.  , 0.  , 0.4 , 0.4 , 0.55, 0.4 , 0.  ,\n",
       "       0.  , 0.  , 0.  , 0.4 , 0.4 , 0.55, 0.55, 0.  , 0.  , 0.  , 0.55,\n",
       "       0.55, 0.7 , 0.15, 0.55, 0.4 , 0.  , 0.  , 0.  , 0.4 , 0.55, 0.  ,\n",
       "       0.  , 0.4 , 0.4 , 0.7 , 1.1 , 0.  , 0.  , 1.1 , 0.  , 0.  , 0.4 ,\n",
       "       0.85, 0.  , 0.  , 0.15, 1.1 , 0.55, 0.  , 0.  , 0.55, 0.15, 0.85,\n",
       "       0.15, 1.25, 0.15, 0.  , 0.  , 1.1 , 0.55, 0.4 , 0.55, 0.7 , 0.  ,\n",
       "       1.1 , 0.  , 0.15, 0.45, 0.15, 0.  , 1.1 , 0.55, 0.4 , 0.4 , 0.4 ,\n",
       "       0.4 , 1.1 , 0.15, 0.  , 1.25, 0.  , 0.55, 0.15, 0.  , 0.15, 0.  ,\n",
       "       0.15, 0.  ])"
      ]
     },
     "execution_count": 82,
     "metadata": {},
     "output_type": "execute_result"
    }
   ],
   "source": [
    "evaluations_np"
   ]
  },
  {
   "cell_type": "code",
   "execution_count": 83,
   "metadata": {},
   "outputs": [
    {
     "name": "stdout",
     "output_type": "stream",
     "text": [
      "The size of dataset is 211, as it is for evaluations array: 211 and descriptions 211 also.\n"
     ]
    }
   ],
   "source": [
    "print('The size of dataset is {}, as it is for evaluations array: {} and descriptions {} also.'.format(len(dataset), len(evaluations_np), len(descriptions_np)))"
   ]
  },
  {
   "cell_type": "code",
   "execution_count": 84,
   "metadata": {},
   "outputs": [
    {
     "name": "stdout",
     "output_type": "stream",
     "text": [
      "The size of one single row in train test is 15 features.\n"
     ]
    }
   ],
   "source": [
    "print('The size of one single row in train test is {} features.'.format(len(X[0])))"
   ]
  },
  {
   "cell_type": "code",
   "execution_count": 85,
   "metadata": {},
   "outputs": [
    {
     "name": "stdout",
     "output_type": "stream",
     "text": [
      "[48155752 nan 'Union Park, Packet Boat Lane, Cowley UB8' 0.0 1.0 1.0 0.0\n",
      " '7th Jun 2018' '260000' '260000'\n",
      " 'https://www.zoopla.co.uk/for-sale/details/48155752' nan 'New' 2 0.8] 0.0 \n",
      " (<class 'numpy.ndarray'>, <class 'int'>, <class 'numpy.float64'>)\n"
     ]
    }
   ],
   "source": [
    "print(X[0], evaluations_np[0], \"\\n\", (type(X[0]), type(X[0][0]), type(evaluations_np[0])))"
   ]
  },
  {
   "cell_type": "code",
   "execution_count": 86,
   "metadata": {},
   "outputs": [
    {
     "name": "stdout",
     "output_type": "stream",
     "text": [
      "48155752 <class 'numpy.ndarray'>\n"
     ]
    }
   ],
   "source": [
    "my_value = X[0]\n",
    "print(my_value[0], type(my_value))"
   ]
  },
  {
   "cell_type": "code",
   "execution_count": 87,
   "metadata": {},
   "outputs": [],
   "source": [
    "merged_array = my_value.tolist()\n",
    "merged_array.append(evaluations_np[0])"
   ]
  },
  {
   "cell_type": "code",
   "execution_count": 88,
   "metadata": {},
   "outputs": [
    {
     "name": "stdout",
     "output_type": "stream",
     "text": [
      "[48155752, nan, 'Union Park, Packet Boat Lane, Cowley UB8', 0.0, 1.0, 1.0, 0.0, '7th Jun 2018', '260000', '260000', 'https://www.zoopla.co.uk/for-sale/details/48155752', nan, 'New', 2, 0.8, 0.0]\n"
     ]
    }
   ],
   "source": [
    "print(merged_array)"
   ]
  },
  {
   "cell_type": "markdown",
   "metadata": {},
   "source": [
    "<b># Merge data</b>"
   ]
  },
  {
   "cell_type": "markdown",
   "metadata": {},
   "source": [
    "<p>First of all merge <code>features</code> values, <code>evaluation</code> and <code>descriptions</code>.</p>"
   ]
  },
  {
   "cell_type": "code",
   "execution_count": 89,
   "metadata": {},
   "outputs": [],
   "source": [
    "merged_db = []\n",
    "\n",
    "for element in range(0, len(X), 1):\n",
    "    this_value = X[element].tolist()\n",
    "    this_value.append(evaluations_np[element])\n",
    "    this_value.append(descriptions_np[element])\n",
    "    \n",
    "    merged_db.append(this_value)"
   ]
  },
  {
   "cell_type": "code",
   "execution_count": 90,
   "metadata": {},
   "outputs": [
    {
     "data": {
      "text/plain": [
       "[48155752,\n",
       " nan,\n",
       " 'Union Park, Packet Boat Lane, Cowley UB8',\n",
       " 0.0,\n",
       " 1.0,\n",
       " 1.0,\n",
       " 0.0,\n",
       " '7th Jun 2018',\n",
       " '260000',\n",
       " '260000',\n",
       " 'https://www.zoopla.co.uk/for-sale/details/48155752',\n",
       " nan,\n",
       " 'New',\n",
       " 2,\n",
       " 0.8,\n",
       " 0.0,\n",
       " \"Latest Uxbridge  property for sale                Zoopla is one of the UK's leading property portals, helping you to find property for sale and to rent and make smarter decisions when buying and renting homes in the UK. Discover information on homes in Uxbridge by researching Uxbridge property values, Uxbridge house prices paid, our Uxbridge property market overview and find Uxbridge agents.            \"]"
      ]
     },
     "execution_count": 90,
     "metadata": {},
     "output_type": "execute_result"
    }
   ],
   "source": [
    "merged_db[0]"
   ]
  },
  {
   "cell_type": "markdown",
   "metadata": {},
   "source": [
    "<b># Building-up a dataframe</b>"
   ]
  },
  {
   "cell_type": "code",
   "execution_count": 91,
   "metadata": {},
   "outputs": [],
   "source": [
    "labels = ['ID', 'Area', 'Address', 'Bedrooms', 'Bathrooms', 'Reception', 'Size', 'First Listed', 'Original price', 'Current price',\n",
    "          'URL', 'FLOORPLAN LINK', 'New', 'Number of the closest stations', 'Min. dist. to station', 'Evaluation','Description']"
   ]
  },
  {
   "cell_type": "code",
   "execution_count": 92,
   "metadata": {},
   "outputs": [],
   "source": [
    "df = pd.DataFrame.from_records(merged_db, columns = labels)"
   ]
  },
  {
   "cell_type": "code",
   "execution_count": 93,
   "metadata": {},
   "outputs": [
    {
     "data": {
      "text/html": [
       "<div>\n",
       "<style scoped>\n",
       "    .dataframe tbody tr th:only-of-type {\n",
       "        vertical-align: middle;\n",
       "    }\n",
       "\n",
       "    .dataframe tbody tr th {\n",
       "        vertical-align: top;\n",
       "    }\n",
       "\n",
       "    .dataframe thead th {\n",
       "        text-align: right;\n",
       "    }\n",
       "</style>\n",
       "<table border=\"1\" class=\"dataframe\">\n",
       "  <thead>\n",
       "    <tr style=\"text-align: right;\">\n",
       "      <th></th>\n",
       "      <th>ID</th>\n",
       "      <th>Area</th>\n",
       "      <th>Address</th>\n",
       "      <th>Bedrooms</th>\n",
       "      <th>Bathrooms</th>\n",
       "      <th>Reception</th>\n",
       "      <th>Size</th>\n",
       "      <th>First Listed</th>\n",
       "      <th>Original price</th>\n",
       "      <th>Current price</th>\n",
       "      <th>URL</th>\n",
       "      <th>FLOORPLAN LINK</th>\n",
       "      <th>New</th>\n",
       "      <th>Number of the closest stations</th>\n",
       "      <th>Min. dist. to station</th>\n",
       "      <th>Evaluation</th>\n",
       "      <th>Description</th>\n",
       "    </tr>\n",
       "  </thead>\n",
       "  <tbody>\n",
       "    <tr>\n",
       "      <th>0</th>\n",
       "      <td>48155752</td>\n",
       "      <td>NaN</td>\n",
       "      <td>Union Park, Packet Boat Lane, Cowley UB8</td>\n",
       "      <td>0.0</td>\n",
       "      <td>1.0</td>\n",
       "      <td>1.0</td>\n",
       "      <td>0.0</td>\n",
       "      <td>7th Jun 2018</td>\n",
       "      <td>260000</td>\n",
       "      <td>260000</td>\n",
       "      <td>https://www.zoopla.co.uk/for-sale/details/4815...</td>\n",
       "      <td>NaN</td>\n",
       "      <td>New</td>\n",
       "      <td>2</td>\n",
       "      <td>0.8</td>\n",
       "      <td>0.00</td>\n",
       "      <td>Latest Uxbridge  property for sale            ...</td>\n",
       "    </tr>\n",
       "    <tr>\n",
       "      <th>1</th>\n",
       "      <td>48153665</td>\n",
       "      <td>NaN</td>\n",
       "      <td>Moorfield Road, Cowley, Middlesex UB8</td>\n",
       "      <td>4.0</td>\n",
       "      <td>0.0</td>\n",
       "      <td>0.0</td>\n",
       "      <td>0.0</td>\n",
       "      <td>7th Jun 2018</td>\n",
       "      <td>610000</td>\n",
       "      <td>610000</td>\n",
       "      <td>https://www.zoopla.co.uk/for-sale/details/4815...</td>\n",
       "      <td>https://c.zoocdn.com/dynimgs/listings/resized/...</td>\n",
       "      <td>New</td>\n",
       "      <td>2</td>\n",
       "      <td>0.7</td>\n",
       "      <td>1.25</td>\n",
       "      <td>A generous Four Bedroo...</td>\n",
       "    </tr>\n",
       "    <tr>\n",
       "      <th>2</th>\n",
       "      <td>48150822</td>\n",
       "      <td>West Drayton</td>\n",
       "      <td>Hawthorne Crescent, West Drayton, Middlesex UB7</td>\n",
       "      <td>1.0</td>\n",
       "      <td>0.0</td>\n",
       "      <td>0.0</td>\n",
       "      <td>0.0</td>\n",
       "      <td>7th Jun 2018</td>\n",
       "      <td>249950</td>\n",
       "      <td>249950</td>\n",
       "      <td>https://www.zoopla.co.uk/for-sale/details/4815...</td>\n",
       "      <td>https://c.zoocdn.com/dynimgs/listings/resized/...</td>\n",
       "      <td>New</td>\n",
       "      <td>2</td>\n",
       "      <td>0.4</td>\n",
       "      <td>0.40</td>\n",
       "      <td>A first floor one bedr...</td>\n",
       "    </tr>\n",
       "  </tbody>\n",
       "</table>\n",
       "</div>"
      ],
      "text/plain": [
       "         ID          Area                                          Address  \\\n",
       "0  48155752           NaN         Union Park, Packet Boat Lane, Cowley UB8   \n",
       "1  48153665           NaN            Moorfield Road, Cowley, Middlesex UB8   \n",
       "2  48150822  West Drayton  Hawthorne Crescent, West Drayton, Middlesex UB7   \n",
       "\n",
       "   Bedrooms  Bathrooms  Reception  Size  First Listed Original price  \\\n",
       "0       0.0        1.0        1.0   0.0  7th Jun 2018         260000   \n",
       "1       4.0        0.0        0.0   0.0  7th Jun 2018         610000   \n",
       "2       1.0        0.0        0.0   0.0  7th Jun 2018         249950   \n",
       "\n",
       "  Current price                                                URL  \\\n",
       "0        260000  https://www.zoopla.co.uk/for-sale/details/4815...   \n",
       "1        610000  https://www.zoopla.co.uk/for-sale/details/4815...   \n",
       "2        249950  https://www.zoopla.co.uk/for-sale/details/4815...   \n",
       "\n",
       "                                      FLOORPLAN LINK  New  \\\n",
       "0                                                NaN  New   \n",
       "1  https://c.zoocdn.com/dynimgs/listings/resized/...  New   \n",
       "2  https://c.zoocdn.com/dynimgs/listings/resized/...  New   \n",
       "\n",
       "   Number of the closest stations  Min. dist. to station  Evaluation  \\\n",
       "0                               2                    0.8        0.00   \n",
       "1                               2                    0.7        1.25   \n",
       "2                               2                    0.4        0.40   \n",
       "\n",
       "                                         Description  \n",
       "0  Latest Uxbridge  property for sale            ...  \n",
       "1                          A generous Four Bedroo...  \n",
       "2                          A first floor one bedr...  "
      ]
     },
     "execution_count": 93,
     "metadata": {},
     "output_type": "execute_result"
    }
   ],
   "source": [
    "df.head(3)"
   ]
  },
  {
   "cell_type": "code",
   "execution_count": 94,
   "metadata": {},
   "outputs": [
    {
     "data": {
      "text/plain": [
       "Index(['ID', 'Area', 'Address', 'Bedrooms', 'Bathrooms', 'Reception', 'Size',\n",
       "       'First Listed', 'Original price', 'Current price', 'URL',\n",
       "       'FLOORPLAN LINK', 'New', 'Number of the closest stations',\n",
       "       'Min. dist. to station', 'Evaluation', 'Description'],\n",
       "      dtype='object')"
      ]
     },
     "execution_count": 94,
     "metadata": {},
     "output_type": "execute_result"
    }
   ],
   "source": [
    "df.columns"
   ]
  },
  {
   "cell_type": "markdown",
   "metadata": {},
   "source": [
    "<b># Plot the evaluation distribution</b>"
   ]
  },
  {
   "cell_type": "code",
   "execution_count": 95,
   "metadata": {},
   "outputs": [],
   "source": [
    "import matplotlib.pyplot as plt"
   ]
  },
  {
   "cell_type": "code",
   "execution_count": 96,
   "metadata": {},
   "outputs": [
    {
     "data": {
      "image/png": "[encoded data removed]",
      "text/plain": [
       "<matplotlib.figure.Figure at 0x22112790c50>"
      ]
     },
     "metadata": {},
     "output_type": "display_data"
    }
   ],
   "source": [
    "bins = np.arange(0, max(df['Evaluation']), 0.05)\n",
    "\n",
    "_ = plt.hist(df['Evaluation'], bins = bins, color = '#1f4e79')\n",
    "\n",
    "plt.xlabel('Evaluations of description')\n",
    "plt.ylabel('Number of properties')\n",
    "\n",
    "plt.show()"
   ]
  },
  {
   "cell_type": "code",
   "execution_count": 97,
   "metadata": {},
   "outputs": [
    {
     "data": {
      "text/plain": [
       "1.4"
      ]
     },
     "execution_count": 97,
     "metadata": {},
     "output_type": "execute_result"
    }
   ],
   "source": [
    "max(df['Evaluation'])"
   ]
  },
  {
   "cell_type": "markdown",
   "metadata": {},
   "source": [
    "<b># Save data to the file</b>"
   ]
  },
  {
   "cell_type": "code",
   "execution_count": 98,
   "metadata": {
    "scrolled": false
   },
   "outputs": [
    {
     "name": "stdout",
     "output_type": "stream",
     "text": [
      "          ID          Area                                     Address  \\\n",
      "56  47766507  West Drayton         Kiln Lodge, Yiewsley, Middlesex UB7   \n",
      "29  47950352  West Drayton             Stainby Close, West Drayton UB7   \n",
      "53  47800341  West Drayton   Bentinck Road, Yiewsley, West Drayton UB7   \n",
      "71  47678712  West Drayton  Colham Avenue, West Drayton, Middlesex UB7   \n",
      "\n",
      "    Bedrooms  Bathrooms  Reception  Size  First Listed Original price  \\\n",
      "56       2.0        2.0        1.0   0.0  5th May 2018         329950   \n",
      "29       4.0        2.0        3.0   0.0  1th Jun 2018         600000   \n",
      "53       1.0        1.0        1.0   0.0  0th May 2018         350000   \n",
      "71       3.0        1.0        2.0   0.0  8th May 2018         375000   \n",
      "\n",
      "   Current price                                                URL  \\\n",
      "56        329950  https://www.zoopla.co.uk/for-sale/details/4776...   \n",
      "29        600000  https://www.zoopla.co.uk/for-sale/details/4795...   \n",
      "53        350000  https://www.zoopla.co.uk/for-sale/details/4780...   \n",
      "71        375000  https://www.zoopla.co.uk/for-sale/details/4767...   \n",
      "\n",
      "                                       FLOORPLAN LINK  New  \\\n",
      "56  https://c.zoocdn.com/dynimgs/listings/resized/...  NaN   \n",
      "29  https://c.zoocdn.com/dynimgs/listings/resized/...  NaN   \n",
      "53                                                NaN  NaN   \n",
      "71  https://c.zoocdn.com/dynimgs/listings/resized/...  NaN   \n",
      "\n",
      "    Number of the closest stations  Min. dist. to station  Evaluation  \\\n",
      "56                               2                    0.4        1.40   \n",
      "29                               2                    0.7        1.25   \n",
      "53                               2                    0.1        1.25   \n",
      "71                               2                    0.2        1.25   \n",
      "\n",
      "                                          Description  \n",
      "56                          A second floor luxury ...  \n",
      "29                          Planning permission gr...  \n",
      "53                          Welcoming to the marke...  \n",
      "71                          No chain this three be...  \n"
     ]
    }
   ],
   "source": [
    "df = df.sort_values('Evaluation', ascending = False)\n",
    "print(df.head(4))"
   ]
  },
  {
   "cell_type": "markdown",
   "metadata": {},
   "source": [
    "<b># Training set</b>"
   ]
  },
  {
   "cell_type": "code",
   "execution_count": 99,
   "metadata": {},
   "outputs": [],
   "source": [
    "training_set = df[['ID', 'Bedrooms', 'Bathrooms', 'Reception', 'Size', 'Current price', 'URL', 'FLOORPLAN LINK',\n",
    "                  'Min. dist. to station', 'Evaluation', 'Description']]"
   ]
  },
  {
   "cell_type": "code",
   "execution_count": 100,
   "metadata": {},
   "outputs": [
    {
     "data": {
      "text/html": [
       "<div>\n",
       "<style scoped>\n",
       "    .dataframe tbody tr th:only-of-type {\n",
       "        vertical-align: middle;\n",
       "    }\n",
       "\n",
       "    .dataframe tbody tr th {\n",
       "        vertical-align: top;\n",
       "    }\n",
       "\n",
       "    .dataframe thead th {\n",
       "        text-align: right;\n",
       "    }\n",
       "</style>\n",
       "<table border=\"1\" class=\"dataframe\">\n",
       "  <thead>\n",
       "    <tr style=\"text-align: right;\">\n",
       "      <th></th>\n",
       "      <th>ID</th>\n",
       "      <th>Bedrooms</th>\n",
       "      <th>Bathrooms</th>\n",
       "      <th>Reception</th>\n",
       "      <th>Size</th>\n",
       "      <th>Current price</th>\n",
       "      <th>URL</th>\n",
       "      <th>FLOORPLAN LINK</th>\n",
       "      <th>Min. dist. to station</th>\n",
       "      <th>Evaluation</th>\n",
       "      <th>Description</th>\n",
       "    </tr>\n",
       "  </thead>\n",
       "  <tbody>\n",
       "    <tr>\n",
       "      <th>56</th>\n",
       "      <td>47766507</td>\n",
       "      <td>2.0</td>\n",
       "      <td>2.0</td>\n",
       "      <td>1.0</td>\n",
       "      <td>0.0</td>\n",
       "      <td>329950</td>\n",
       "      <td>https://www.zoopla.co.uk/for-sale/details/4776...</td>\n",
       "      <td>https://c.zoocdn.com/dynimgs/listings/resized/...</td>\n",
       "      <td>0.4</td>\n",
       "      <td>1.40</td>\n",
       "      <td>A second floor luxury ...</td>\n",
       "    </tr>\n",
       "    <tr>\n",
       "      <th>29</th>\n",
       "      <td>47950352</td>\n",
       "      <td>4.0</td>\n",
       "      <td>2.0</td>\n",
       "      <td>3.0</td>\n",
       "      <td>0.0</td>\n",
       "      <td>600000</td>\n",
       "      <td>https://www.zoopla.co.uk/for-sale/details/4795...</td>\n",
       "      <td>https://c.zoocdn.com/dynimgs/listings/resized/...</td>\n",
       "      <td>0.7</td>\n",
       "      <td>1.25</td>\n",
       "      <td>Planning permission gr...</td>\n",
       "    </tr>\n",
       "    <tr>\n",
       "      <th>53</th>\n",
       "      <td>47800341</td>\n",
       "      <td>1.0</td>\n",
       "      <td>1.0</td>\n",
       "      <td>1.0</td>\n",
       "      <td>0.0</td>\n",
       "      <td>350000</td>\n",
       "      <td>https://www.zoopla.co.uk/for-sale/details/4780...</td>\n",
       "      <td>NaN</td>\n",
       "      <td>0.1</td>\n",
       "      <td>1.25</td>\n",
       "      <td>Welcoming to the marke...</td>\n",
       "    </tr>\n",
       "    <tr>\n",
       "      <th>71</th>\n",
       "      <td>47678712</td>\n",
       "      <td>3.0</td>\n",
       "      <td>1.0</td>\n",
       "      <td>2.0</td>\n",
       "      <td>0.0</td>\n",
       "      <td>375000</td>\n",
       "      <td>https://www.zoopla.co.uk/for-sale/details/4767...</td>\n",
       "      <td>https://c.zoocdn.com/dynimgs/listings/resized/...</td>\n",
       "      <td>0.2</td>\n",
       "      <td>1.25</td>\n",
       "      <td>No chain this three be...</td>\n",
       "    </tr>\n",
       "  </tbody>\n",
       "</table>\n",
       "</div>"
      ],
      "text/plain": [
       "          ID  Bedrooms  Bathrooms  Reception  Size Current price  \\\n",
       "56  47766507       2.0        2.0        1.0   0.0        329950   \n",
       "29  47950352       4.0        2.0        3.0   0.0        600000   \n",
       "53  47800341       1.0        1.0        1.0   0.0        350000   \n",
       "71  47678712       3.0        1.0        2.0   0.0        375000   \n",
       "\n",
       "                                                  URL  \\\n",
       "56  https://www.zoopla.co.uk/for-sale/details/4776...   \n",
       "29  https://www.zoopla.co.uk/for-sale/details/4795...   \n",
       "53  https://www.zoopla.co.uk/for-sale/details/4780...   \n",
       "71  https://www.zoopla.co.uk/for-sale/details/4767...   \n",
       "\n",
       "                                       FLOORPLAN LINK  Min. dist. to station  \\\n",
       "56  https://c.zoocdn.com/dynimgs/listings/resized/...                    0.4   \n",
       "29  https://c.zoocdn.com/dynimgs/listings/resized/...                    0.7   \n",
       "53                                                NaN                    0.1   \n",
       "71  https://c.zoocdn.com/dynimgs/listings/resized/...                    0.2   \n",
       "\n",
       "    Evaluation                                        Description  \n",
       "56        1.40                          A second floor luxury ...  \n",
       "29        1.25                          Planning permission gr...  \n",
       "53        1.25                          Welcoming to the marke...  \n",
       "71        1.25                          No chain this three be...  "
      ]
     },
     "execution_count": 100,
     "metadata": {},
     "output_type": "execute_result"
    }
   ],
   "source": [
    "training_set.head(4)"
   ]
  },
  {
   "cell_type": "code",
   "execution_count": 101,
   "metadata": {},
   "outputs": [],
   "source": [
    "training_set.to_csv('20180628_Comps_dataset_WD_1st.csv')"
   ]
  },
  {
   "cell_type": "markdown",
   "metadata": {},
   "source": [
    "<b># Plot frequency distribution of keywords</b>"
   ]
  },
  {
   "cell_type": "code",
   "execution_count": 102,
   "metadata": {},
   "outputs": [],
   "source": [
    "bow = bow.sort_values('Counter', ascending = False)"
   ]
  },
  {
   "cell_type": "code",
   "execution_count": 103,
   "metadata": {},
   "outputs": [
    {
     "data": {
      "text/plain": [
       "[Text(0,0,'0'),\n",
       " Text(0,0,'20'),\n",
       " Text(0,0,'40'),\n",
       " Text(0,0,'60'),\n",
       " Text(0,0,'80'),\n",
       " Text(0,0,'100'),\n",
       " Text(0,0,'120')]"
      ]
     },
     "execution_count": 103,
     "metadata": {},
     "output_type": "execute_result"
    },
    {
     "data": {
      "image/png": "[encoded data removed]",
      "text/plain": [
       "<matplotlib.figure.Figure at 0x2210b4f62e8>"
      ]
     },
     "metadata": {},
     "output_type": "display_data"
    }
   ],
   "source": [
    "plt.style.use('_classic_test')\n",
    "\n",
    "my_color = '#5b9bd5'\n",
    "text_color = '#1f4e79'\n",
    "\n",
    "ax = bow[['Counter']].plot(kind='bar', title =\"Keyword frequency\",figsize=(10,6),legend=True, fontsize=18, color = my_color)\n",
    "\n",
    "ax.grid(color = '#cccccc', linestyle = '--', linewidth = 1)\n",
    "\n",
    "ax.set_xlabel(\"Keywords\",fontsize=15, color = text_color)\n",
    "ax.set_ylabel(\"Frequency\",fontsize=15, color = text_color)\n",
    "\n",
    "y_labels = np.arange(0, np.max(bow[['Counter']]), 20)\n",
    "ax.set_xticklabels(bow[0], rotation=45, fontsize = 15, color = text_color)\n",
    "ax.set_yticklabels(y_labels, fontsize = 15, color = text_color)"
   ]
  },
  {
   "cell_type": "markdown",
   "metadata": {},
   "source": [
    "<b># Set the <code>index</code> for each property based on URL</b>\n",
    "<p>This Index will be the same as it is on Zoopla.</p>"
   ]
  },
  {
   "cell_type": "code",
   "execution_count": 104,
   "metadata": {},
   "outputs": [
    {
     "name": "stdout",
     "output_type": "stream",
     "text": [
      "           ID          Area                                      Address  \\\n",
      "56   47766507  West Drayton          Kiln Lodge, Yiewsley, Middlesex UB7   \n",
      "29   47950352  West Drayton              Stainby Close, West Drayton UB7   \n",
      "53   47800341  West Drayton    Bentinck Road, Yiewsley, West Drayton UB7   \n",
      "71   47678712  West Drayton   Colham Avenue, West Drayton, Middlesex UB7   \n",
      "202  45117263  West Drayton                 Money Lane, West Drayton UB7   \n",
      "92   47522946  West Drayton             Philpots Close, West Drayton UB7   \n",
      "23   47997725  West Drayton  Cherry Orchard, West Drayton, Middlesex UB7   \n",
      "19   48035175  West Drayton            Evergreen Drive, West Drayton UB7   \n",
      "98   47451151           NaN    St Clement Close, Uxbridge, Middlesex UB8   \n",
      "1    48153665           NaN        Moorfield Road, Cowley, Middlesex UB8   \n",
      "\n",
      "     Bedrooms  Bathrooms  Price per bedroom  Reception    Size  First Listed  \\\n",
      "56        2.0        2.0                  0        1.0     0.0  5th May 2018   \n",
      "29        4.0        2.0                  0        3.0     0.0  1th Jun 2018   \n",
      "53        1.0        1.0                  0        1.0     0.0  0th May 2018   \n",
      "71        3.0        1.0                  0        2.0     0.0  8th May 2018   \n",
      "202       4.0        2.0                  0        2.0     0.0  8th Sep 2017   \n",
      "92        1.0        1.0                  0        1.0     0.0  5th May 2018   \n",
      "23        3.0        2.0                  0        1.0  1220.0  4th Jun 2018   \n",
      "19        3.0        2.0                  0        1.0     0.0  8th Jun 2018   \n",
      "98        3.0        2.0                  0        1.0     0.0  0th Apr 2018   \n",
      "1         4.0        0.0                  0        0.0     0.0  7th Jun 2018   \n",
      "\n",
      "    Original price Current price  \\\n",
      "56          329950        329950   \n",
      "29          600000        600000   \n",
      "53          350000        350000   \n",
      "71          375000        375000   \n",
      "202         500000        500000   \n",
      "92          270000        270000   \n",
      "23          620000        620000   \n",
      "19          490000        490000   \n",
      "98          390000        390000   \n",
      "1           610000        610000   \n",
      "\n",
      "                                                   URL  \\\n",
      "56   https://www.zoopla.co.uk/for-sale/details/4776...   \n",
      "29   https://www.zoopla.co.uk/for-sale/details/4795...   \n",
      "53   https://www.zoopla.co.uk/for-sale/details/4780...   \n",
      "71   https://www.zoopla.co.uk/for-sale/details/4767...   \n",
      "202  https://www.zoopla.co.uk/for-sale/details/4511...   \n",
      "92   https://www.zoopla.co.uk/for-sale/details/4752...   \n",
      "23   https://www.zoopla.co.uk/for-sale/details/4799...   \n",
      "19   https://www.zoopla.co.uk/for-sale/details/4803...   \n",
      "98   https://www.zoopla.co.uk/for-sale/details/4745...   \n",
      "1    https://www.zoopla.co.uk/for-sale/details/4815...   \n",
      "\n",
      "                                        FLOORPLAN LINK  New  \\\n",
      "56   https://c.zoocdn.com/dynimgs/listings/resized/...  NaN   \n",
      "29   https://c.zoocdn.com/dynimgs/listings/resized/...  NaN   \n",
      "53                                                 NaN  NaN   \n",
      "71   https://c.zoocdn.com/dynimgs/listings/resized/...  NaN   \n",
      "202  https://c.zoocdn.com/dynimgs/listings/resized/...  NaN   \n",
      "92                                                 NaN  NaN   \n",
      "23   https://c.zoocdn.com/dynimgs/listings/resized/...  NaN   \n",
      "19                                                 NaN  NaN   \n",
      "98   https://c.zoocdn.com/dynimgs/listings/resized/...  NaN   \n",
      "1    https://c.zoocdn.com/dynimgs/listings/resized/...  New   \n",
      "\n",
      "     Number of the closest stations  Min. dist. to station  Evaluation  \\\n",
      "56                                2                    0.4        1.40   \n",
      "29                                2                    0.7        1.25   \n",
      "53                                2                    0.1        1.25   \n",
      "71                                2                    0.2        1.25   \n",
      "202                               2                    0.6        1.25   \n",
      "92                                2                    0.5        1.25   \n",
      "23                                2                    0.1        1.25   \n",
      "19                                2                    0.7        1.25   \n",
      "98                                2                    0.8        1.25   \n",
      "1                                 2                    0.7        1.25   \n",
      "\n",
      "                                           Description  \n",
      "56                           A second floor luxury ...  \n",
      "29                           Planning permission gr...  \n",
      "53                           Welcoming to the marke...  \n",
      "71                           No chain this three be...  \n",
      "202                          An exciting and rare o...  \n",
      "92                           This well presented on...  \n",
      "23                           A three double bedroom...  \n",
      "19                           Cameron Estate Agents ...  \n",
      "98                           This well presented to...  \n",
      "1                            A generous Four Bedroo...  \n"
     ]
    }
   ],
   "source": [
    "df.insert(5, 'Price per bedroom', 0)\n",
    "print(df.head(10))"
   ]
  },
  {
   "cell_type": "code",
   "execution_count": 105,
   "metadata": {},
   "outputs": [
    {
     "name": "stdout",
     "output_type": "stream",
     "text": [
      "The column index for <Price per bedroom> is 5.\n",
      "The column index for <Bedrooms> is 3.\n",
      "The column index for <Price> is 10.\n"
     ]
    }
   ],
   "source": [
    "index_of_ppb = df.columns.get_loc('Price per bedroom')\n",
    "index_of_bed = df.columns.get_loc('Bedrooms')\n",
    "index_of_price = df.columns.get_loc('Current price')\n",
    "print('The column index for <Price per bedroom> is {}.'.format(index_of_ppb))\n",
    "print('The column index for <Bedrooms> is {}.'.format(index_of_bed))\n",
    "print('The column index for <Price> is {}.'.format(index_of_price))"
   ]
  },
  {
   "cell_type": "markdown",
   "metadata": {},
   "source": [
    "<b># Calculate the price per bedroom</b>"
   ]
  },
  {
   "cell_type": "code",
   "execution_count": 106,
   "metadata": {},
   "outputs": [],
   "source": [
    "for this_property in range(0, len(df), 1):\n",
    "    if df.iat[this_property, index_of_bed] != 0:\n",
    "        try:\n",
    "            df.iat[this_property, index_of_ppb] = float(df.iat[this_property, index_of_price]) / float(df.iat[this_property, index_of_bed])\n",
    "        except:\n",
    "            df.iat[this_property, index_of_ppb] = 0.0\n",
    "    else:\n",
    "        df.iat[this_property, index_of_ppb] = 0.0"
   ]
  },
  {
   "cell_type": "code",
   "execution_count": 107,
   "metadata": {},
   "outputs": [
    {
     "data": {
      "text/html": [
       "<div>\n",
       "<style scoped>\n",
       "    .dataframe tbody tr th:only-of-type {\n",
       "        vertical-align: middle;\n",
       "    }\n",
       "\n",
       "    .dataframe tbody tr th {\n",
       "        vertical-align: top;\n",
       "    }\n",
       "\n",
       "    .dataframe thead th {\n",
       "        text-align: right;\n",
       "    }\n",
       "</style>\n",
       "<table border=\"1\" class=\"dataframe\">\n",
       "  <thead>\n",
       "    <tr style=\"text-align: right;\">\n",
       "      <th></th>\n",
       "      <th>ID</th>\n",
       "      <th>Area</th>\n",
       "      <th>Address</th>\n",
       "      <th>Bedrooms</th>\n",
       "      <th>Bathrooms</th>\n",
       "      <th>Price per bedroom</th>\n",
       "      <th>Reception</th>\n",
       "      <th>Size</th>\n",
       "      <th>First Listed</th>\n",
       "      <th>Original price</th>\n",
       "      <th>Current price</th>\n",
       "      <th>URL</th>\n",
       "      <th>FLOORPLAN LINK</th>\n",
       "      <th>New</th>\n",
       "      <th>Number of the closest stations</th>\n",
       "      <th>Min. dist. to station</th>\n",
       "      <th>Evaluation</th>\n",
       "      <th>Description</th>\n",
       "    </tr>\n",
       "  </thead>\n",
       "  <tbody>\n",
       "    <tr>\n",
       "      <th>56</th>\n",
       "      <td>47766507</td>\n",
       "      <td>West Drayton</td>\n",
       "      <td>Kiln Lodge, Yiewsley, Middlesex UB7</td>\n",
       "      <td>2.0</td>\n",
       "      <td>2.0</td>\n",
       "      <td>164975</td>\n",
       "      <td>1.0</td>\n",
       "      <td>0.0</td>\n",
       "      <td>5th May 2018</td>\n",
       "      <td>329950</td>\n",
       "      <td>329950</td>\n",
       "      <td>https://www.zoopla.co.uk/for-sale/details/4776...</td>\n",
       "      <td>https://c.zoocdn.com/dynimgs/listings/resized/...</td>\n",
       "      <td>NaN</td>\n",
       "      <td>2</td>\n",
       "      <td>0.4</td>\n",
       "      <td>1.40</td>\n",
       "      <td>A second floor luxury ...</td>\n",
       "    </tr>\n",
       "    <tr>\n",
       "      <th>29</th>\n",
       "      <td>47950352</td>\n",
       "      <td>West Drayton</td>\n",
       "      <td>Stainby Close, West Drayton UB7</td>\n",
       "      <td>4.0</td>\n",
       "      <td>2.0</td>\n",
       "      <td>150000</td>\n",
       "      <td>3.0</td>\n",
       "      <td>0.0</td>\n",
       "      <td>1th Jun 2018</td>\n",
       "      <td>600000</td>\n",
       "      <td>600000</td>\n",
       "      <td>https://www.zoopla.co.uk/for-sale/details/4795...</td>\n",
       "      <td>https://c.zoocdn.com/dynimgs/listings/resized/...</td>\n",
       "      <td>NaN</td>\n",
       "      <td>2</td>\n",
       "      <td>0.7</td>\n",
       "      <td>1.25</td>\n",
       "      <td>Planning permission gr...</td>\n",
       "    </tr>\n",
       "    <tr>\n",
       "      <th>53</th>\n",
       "      <td>47800341</td>\n",
       "      <td>West Drayton</td>\n",
       "      <td>Bentinck Road, Yiewsley, West Drayton UB7</td>\n",
       "      <td>1.0</td>\n",
       "      <td>1.0</td>\n",
       "      <td>350000</td>\n",
       "      <td>1.0</td>\n",
       "      <td>0.0</td>\n",
       "      <td>0th May 2018</td>\n",
       "      <td>350000</td>\n",
       "      <td>350000</td>\n",
       "      <td>https://www.zoopla.co.uk/for-sale/details/4780...</td>\n",
       "      <td>NaN</td>\n",
       "      <td>NaN</td>\n",
       "      <td>2</td>\n",
       "      <td>0.1</td>\n",
       "      <td>1.25</td>\n",
       "      <td>Welcoming to the marke...</td>\n",
       "    </tr>\n",
       "    <tr>\n",
       "      <th>71</th>\n",
       "      <td>47678712</td>\n",
       "      <td>West Drayton</td>\n",
       "      <td>Colham Avenue, West Drayton, Middlesex UB7</td>\n",
       "      <td>3.0</td>\n",
       "      <td>1.0</td>\n",
       "      <td>125000</td>\n",
       "      <td>2.0</td>\n",
       "      <td>0.0</td>\n",
       "      <td>8th May 2018</td>\n",
       "      <td>375000</td>\n",
       "      <td>375000</td>\n",
       "      <td>https://www.zoopla.co.uk/for-sale/details/4767...</td>\n",
       "      <td>https://c.zoocdn.com/dynimgs/listings/resized/...</td>\n",
       "      <td>NaN</td>\n",
       "      <td>2</td>\n",
       "      <td>0.2</td>\n",
       "      <td>1.25</td>\n",
       "      <td>No chain this three be...</td>\n",
       "    </tr>\n",
       "    <tr>\n",
       "      <th>202</th>\n",
       "      <td>45117263</td>\n",
       "      <td>West Drayton</td>\n",
       "      <td>Money Lane, West Drayton UB7</td>\n",
       "      <td>4.0</td>\n",
       "      <td>2.0</td>\n",
       "      <td>125000</td>\n",
       "      <td>2.0</td>\n",
       "      <td>0.0</td>\n",
       "      <td>8th Sep 2017</td>\n",
       "      <td>500000</td>\n",
       "      <td>500000</td>\n",
       "      <td>https://www.zoopla.co.uk/for-sale/details/4511...</td>\n",
       "      <td>https://c.zoocdn.com/dynimgs/listings/resized/...</td>\n",
       "      <td>NaN</td>\n",
       "      <td>2</td>\n",
       "      <td>0.6</td>\n",
       "      <td>1.25</td>\n",
       "      <td>An exciting and rare o...</td>\n",
       "    </tr>\n",
       "  </tbody>\n",
       "</table>\n",
       "</div>"
      ],
      "text/plain": [
       "           ID          Area                                     Address  \\\n",
       "56   47766507  West Drayton         Kiln Lodge, Yiewsley, Middlesex UB7   \n",
       "29   47950352  West Drayton             Stainby Close, West Drayton UB7   \n",
       "53   47800341  West Drayton   Bentinck Road, Yiewsley, West Drayton UB7   \n",
       "71   47678712  West Drayton  Colham Avenue, West Drayton, Middlesex UB7   \n",
       "202  45117263  West Drayton                Money Lane, West Drayton UB7   \n",
       "\n",
       "     Bedrooms  Bathrooms  Price per bedroom  Reception  Size  First Listed  \\\n",
       "56        2.0        2.0             164975        1.0   0.0  5th May 2018   \n",
       "29        4.0        2.0             150000        3.0   0.0  1th Jun 2018   \n",
       "53        1.0        1.0             350000        1.0   0.0  0th May 2018   \n",
       "71        3.0        1.0             125000        2.0   0.0  8th May 2018   \n",
       "202       4.0        2.0             125000        2.0   0.0  8th Sep 2017   \n",
       "\n",
       "    Original price Current price  \\\n",
       "56          329950        329950   \n",
       "29          600000        600000   \n",
       "53          350000        350000   \n",
       "71          375000        375000   \n",
       "202         500000        500000   \n",
       "\n",
       "                                                   URL  \\\n",
       "56   https://www.zoopla.co.uk/for-sale/details/4776...   \n",
       "29   https://www.zoopla.co.uk/for-sale/details/4795...   \n",
       "53   https://www.zoopla.co.uk/for-sale/details/4780...   \n",
       "71   https://www.zoopla.co.uk/for-sale/details/4767...   \n",
       "202  https://www.zoopla.co.uk/for-sale/details/4511...   \n",
       "\n",
       "                                        FLOORPLAN LINK  New  \\\n",
       "56   https://c.zoocdn.com/dynimgs/listings/resized/...  NaN   \n",
       "29   https://c.zoocdn.com/dynimgs/listings/resized/...  NaN   \n",
       "53                                                 NaN  NaN   \n",
       "71   https://c.zoocdn.com/dynimgs/listings/resized/...  NaN   \n",
       "202  https://c.zoocdn.com/dynimgs/listings/resized/...  NaN   \n",
       "\n",
       "     Number of the closest stations  Min. dist. to station  Evaluation  \\\n",
       "56                                2                    0.4        1.40   \n",
       "29                                2                    0.7        1.25   \n",
       "53                                2                    0.1        1.25   \n",
       "71                                2                    0.2        1.25   \n",
       "202                               2                    0.6        1.25   \n",
       "\n",
       "                                           Description  \n",
       "56                           A second floor luxury ...  \n",
       "29                           Planning permission gr...  \n",
       "53                           Welcoming to the marke...  \n",
       "71                           No chain this three be...  \n",
       "202                          An exciting and rare o...  "
      ]
     },
     "execution_count": 107,
     "metadata": {},
     "output_type": "execute_result"
    }
   ],
   "source": [
    "df.head()"
   ]
  },
  {
   "cell_type": "markdown",
   "metadata": {},
   "source": [
    "<b># Plot prices per bedroom</b>"
   ]
  },
  {
   "cell_type": "code",
   "execution_count": 108,
   "metadata": {},
   "outputs": [
    {
     "data": {
      "text/plain": [
       "[Text(0,0,'0'),\n",
       " Text(0,0,'20'),\n",
       " Text(0,0,'40'),\n",
       " Text(0,0,'60'),\n",
       " Text(0,0,'80'),\n",
       " Text(0,0,'100'),\n",
       " Text(0,0,'120')]"
      ]
     },
     "execution_count": 108,
     "metadata": {},
     "output_type": "execute_result"
    },
    {
     "data": {
      "image/png": "[encoded data removed]",
      "text/plain": [
       "<matplotlib.figure.Figure at 0x2211241e470>"
      ]
     },
     "metadata": {},
     "output_type": "display_data"
    }
   ],
   "source": [
    "plt.style.use('_classic_test')\n",
    "\n",
    "my_color = '#5b9bd5'\n",
    "text_color = '#1f4e79'\n",
    "\n",
    "ax = df[['Price per bedroom']].plot(kind='hist', title =\"Price per bedroom distribution\",figsize=(8,5),legend=True, fontsize=10, color = my_color, bins=15)\n",
    "\n",
    "ax.grid(color = '#cccccc', linestyle = '--', linewidth = 1)\n",
    "\n",
    "ax.set_xlabel(\"Price per bedroom\",fontsize=12, color = text_color)\n",
    "ax.set_ylabel(\"Frequency\",fontsize=12, color = text_color)\n",
    "\n",
    "y_labels = np.arange(0, np.max(df[['Price per bedroom']]), 20)\n",
    "ax.set_xticklabels(bow[0], rotation=45, fontsize = 15, color = text_color)\n",
    "ax.set_yticklabels(y_labels, fontsize = 15, color = text_color)"
   ]
  },
  {
   "cell_type": "markdown",
   "metadata": {},
   "source": [
    "<b># Building-up a Normal Gaussian theorical distribution</b>"
   ]
  },
  {
   "cell_type": "code",
   "execution_count": 109,
   "metadata": {},
   "outputs": [
    {
     "name": "stdout",
     "output_type": "stream",
     "text": [
      "Mean(y) = 167500.0\n",
      "STD(y) = 62066.83225899858\n"
     ]
    },
    {
     "data": {
      "image/png": "[encoded data removed]",
      "text/plain": [
       "<matplotlib.figure.Figure at 0x22112410ac8>"
      ]
     },
     "metadata": {},
     "output_type": "display_data"
    }
   ],
   "source": [
    "df = df[(df['Price per bedroom'] > 30000)]\n",
    "df = df[(df['Price per bedroom'] < 280000)]\n",
    "\n",
    "__d = plt.grid(color = '#cccccc', linestyle = '--', linewidth = 1, alpha = 0.5)\n",
    "\n",
    "__d = plt.title('Stat. distribution of Price per bedroom distribution and theoretical model')\n",
    "\n",
    "__d = plt.hist(df['Price per bedroom'], color = '#5b9bd5', normed = True, bins = 20)\n",
    "\n",
    "x_ = __d[0]\n",
    "y_ = __d[1]\n",
    "\n",
    "samples = np.random.normal(np.mean(y_), np.std(y_), size = 10000000)\n",
    "print(\"Mean(y) = {}\".format(np.mean(y_)))\n",
    "print(\"STD(y) = {}\".format(np.std(y_)))\n",
    "\n",
    "__d = plt.hist(samples, bins = 150, alpha = 0.3, normed = True, color = '#1f4e79')\n",
    "\n",
    "__d = plt.axvline(x = np.mean(y_), color = '#ff8080')\n",
    "__d = plt.axhline(y = np.mean(x_), color = '#ff8080')\n",
    "\n",
    "plt.xlim(0, max(df['Price per bedroom'])*1.1)\n",
    "plt.show()"
   ]
  },
  {
   "cell_type": "markdown",
   "metadata": {},
   "source": [
    "<b># Define ECDF function</b>"
   ]
  },
  {
   "cell_type": "code",
   "execution_count": 110,
   "metadata": {},
   "outputs": [],
   "source": [
    "def ecdf(data):\n",
    "    \"\"\"Compute ECDF for a one-dimensional array of measurements.\"\"\"\n",
    "\n",
    "    # Number of data points: n\n",
    "    n = len(data)\n",
    "\n",
    "    # x-data for the ECDF: x\n",
    "    x = np.sort(data)\n",
    "\n",
    "    # y-data for the ECDF: y\n",
    "    y = np.arange(1, len(x)+1) / n\n",
    "\n",
    "    return x, y"
   ]
  },
  {
   "cell_type": "code",
   "execution_count": 111,
   "metadata": {},
   "outputs": [],
   "source": [
    "df_noZeros = df[(df['Price per bedroom'] != 0)]\n",
    "\n",
    "# Create sub-groups for 2 and 4 beds properties\n",
    "df_2b = df[(df['Bedrooms'] == 2)]\n",
    "df_4b = df[(df['Bedrooms'] == 4)]\n",
    "\n",
    "x, y = ecdf(df_noZeros['Price per bedroom'])\n",
    "x_2b, y_2b = ecdf(df_2b['Price per bedroom'])\n",
    "x_4b, y_4b = ecdf(df_4b['Price per bedroom'])"
   ]
  },
  {
   "cell_type": "code",
   "execution_count": 112,
   "metadata": {},
   "outputs": [
    {
     "data": {
      "image/png": "[encoded data removed]",
      "text/plain": [
       "<matplotlib.figure.Figure at 0x2210b96ccc0>"
      ]
     },
     "metadata": {},
     "output_type": "display_data"
    }
   ],
   "source": [
    "import seaborn as sns\n",
    "import matplotlib.patches as mpatches\n",
    "%matplotlib inline\n",
    "\n",
    "# Generate plot\n",
    "sns.set_style('darkgrid')\n",
    "\n",
    "# Set plot size\n",
    "_ = plt.rcParams['figure.figsize'] = (10,7)\n",
    "\n",
    "_ = plt.plot(x, y, marker='.', linestyle='none', color = '#808080', alpha = 0.4)\n",
    "_ = plt.plot(x_2b, y_2b, marker='.', linestyle='none', color = '#1f4e79', alpha = 0.9)\n",
    "_ = plt.plot(x_4b, y_4b, marker='.', linestyle='none', color = '#5b9bd5', alpha = 0.9)\n",
    "\n",
    "# Make the margins nice\n",
    "_ = plt.margins(0.02)\n",
    "\n",
    "# Label the axes\n",
    "_ = plt.xlabel('Price per bedroom (£)', fontsize = 16, family='Arial')\n",
    "_ = plt.ylabel('ECDF', fontsize = 16)\n",
    "\n",
    "# Overlay percentiles as red diamonds.\n",
    "percentiles = np.array([50])\n",
    "df_perc = np.percentile(df['Price per bedroom'], percentiles)\n",
    "df_perc_2b = np.percentile(df_2b['Price per bedroom'], percentiles)\n",
    "df_perc_4b = np.percentile(df_4b['Price per bedroom'], percentiles)\n",
    "\n",
    "_ = plt.plot(df_perc, percentiles/100, marker='D', color='#cccccc', linestyle='none', markersize = 10)\n",
    "_ = plt.plot(df_perc_2b, percentiles/100, marker='D', color='#8db9e2', linestyle='none', markersize = 10)\n",
    "_ = plt.plot(df_perc_4b, percentiles/100, marker='D', color='#dfeffd', linestyle='none', markersize = 10)\n",
    "\n",
    "\n",
    "# Draw vertical line on a plot\n",
    "_ = plt.axvline(x = df_perc_2b, color = '#ff8080')\n",
    "_ = plt.axvline(x = df_perc_4b, color = '#ff8080')\n",
    "\n",
    "# Draw a horizontal line on a plot\n",
    "_ = plt.axhline(y = 0.5, color = '#ff8080')\n",
    "\n",
    "plt.tick_params(labelsize=12)\n",
    "\n",
    "# Set axis style\n",
    "_ = plt.grid(b=True, which='major', color='#000000', linestyle='--')\n",
    "\n",
    "# Add legend\n",
    "patch_01 = mpatches.Patch(color='#cccccc', label='All properties')\n",
    "patch_02 = mpatches.Patch(color='#1f4e79', label='2 beds. properties')\n",
    "patch_03 = mpatches.Patch(color='#5b9bd5', label='4 beds. properties')\n",
    "_ = plt.legend(handles=[patch_01, patch_02, patch_03], loc = 'upper left', fontsize = 14)\n",
    "\n",
    "# Display the plot\n",
    "plt.show()"
   ]
  },
  {
   "cell_type": "code",
   "execution_count": 113,
   "metadata": {},
   "outputs": [
    {
     "name": "stdout",
     "output_type": "stream",
     "text": [
      "The median of total price per bedroom is 155000.0 £.\n",
      "The median of 2 bed. properties price per bedroom is 156975.0 £.\n",
      "The median of 4 bed. properties price per bedroom is 122493.5 £.\n"
     ]
    }
   ],
   "source": [
    "print('The median of total price per bedroom is {} £.'.format(df_perc[0]))\n",
    "print('The median of 2 bed. properties price per bedroom is {} £.'.format(df_perc_2b[0]))\n",
    "print('The median of 4 bed. properties price per bedroom is {} £.'.format(df_perc_4b[0]))"
   ]
  },
  {
   "cell_type": "markdown",
   "metadata": {},
   "source": [
    "<h3># Checking structure of datasets after calculations</h3>"
   ]
  },
  {
   "cell_type": "code",
   "execution_count": 114,
   "metadata": {},
   "outputs": [
    {
     "data": {
      "text/plain": [
       "Index(['ID', 'Area', 'Address', 'Bedrooms', 'Bathrooms', 'Price per bedroom',\n",
       "       'Reception', 'Size', 'First Listed', 'Original price', 'Current price',\n",
       "       'URL', 'FLOORPLAN LINK', 'New', 'Number of the closest stations',\n",
       "       'Min. dist. to station', 'Evaluation', 'Description'],\n",
       "      dtype='object')"
      ]
     },
     "execution_count": 114,
     "metadata": {},
     "output_type": "execute_result"
    }
   ],
   "source": [
    "df.columns"
   ]
  },
  {
   "cell_type": "code",
   "execution_count": 115,
   "metadata": {
    "scrolled": true
   },
   "outputs": [
    {
     "data": {
      "text/html": [
       "<div>\n",
       "<style scoped>\n",
       "    .dataframe tbody tr th:only-of-type {\n",
       "        vertical-align: middle;\n",
       "    }\n",
       "\n",
       "    .dataframe tbody tr th {\n",
       "        vertical-align: top;\n",
       "    }\n",
       "\n",
       "    .dataframe thead th {\n",
       "        text-align: right;\n",
       "    }\n",
       "</style>\n",
       "<table border=\"1\" class=\"dataframe\">\n",
       "  <thead>\n",
       "    <tr style=\"text-align: right;\">\n",
       "      <th></th>\n",
       "      <th>ID</th>\n",
       "      <th>Area</th>\n",
       "      <th>Address</th>\n",
       "      <th>Bedrooms</th>\n",
       "      <th>Bathrooms</th>\n",
       "      <th>Price per bedroom</th>\n",
       "      <th>Reception</th>\n",
       "      <th>Size</th>\n",
       "      <th>First Listed</th>\n",
       "      <th>Original price</th>\n",
       "      <th>Current price</th>\n",
       "      <th>URL</th>\n",
       "      <th>FLOORPLAN LINK</th>\n",
       "      <th>New</th>\n",
       "      <th>Number of the closest stations</th>\n",
       "      <th>Min. dist. to station</th>\n",
       "      <th>Evaluation</th>\n",
       "      <th>Description</th>\n",
       "    </tr>\n",
       "  </thead>\n",
       "  <tbody>\n",
       "    <tr>\n",
       "      <th>56</th>\n",
       "      <td>47766507</td>\n",
       "      <td>West Drayton</td>\n",
       "      <td>Kiln Lodge, Yiewsley, Middlesex UB7</td>\n",
       "      <td>2.0</td>\n",
       "      <td>2.0</td>\n",
       "      <td>164975</td>\n",
       "      <td>1.0</td>\n",
       "      <td>0.0</td>\n",
       "      <td>5th May 2018</td>\n",
       "      <td>329950</td>\n",
       "      <td>329950</td>\n",
       "      <td>https://www.zoopla.co.uk/for-sale/details/4776...</td>\n",
       "      <td>https://c.zoocdn.com/dynimgs/listings/resized/...</td>\n",
       "      <td>NaN</td>\n",
       "      <td>2</td>\n",
       "      <td>0.4</td>\n",
       "      <td>1.40</td>\n",
       "      <td>A second floor luxury ...</td>\n",
       "    </tr>\n",
       "    <tr>\n",
       "      <th>29</th>\n",
       "      <td>47950352</td>\n",
       "      <td>West Drayton</td>\n",
       "      <td>Stainby Close, West Drayton UB7</td>\n",
       "      <td>4.0</td>\n",
       "      <td>2.0</td>\n",
       "      <td>150000</td>\n",
       "      <td>3.0</td>\n",
       "      <td>0.0</td>\n",
       "      <td>1th Jun 2018</td>\n",
       "      <td>600000</td>\n",
       "      <td>600000</td>\n",
       "      <td>https://www.zoopla.co.uk/for-sale/details/4795...</td>\n",
       "      <td>https://c.zoocdn.com/dynimgs/listings/resized/...</td>\n",
       "      <td>NaN</td>\n",
       "      <td>2</td>\n",
       "      <td>0.7</td>\n",
       "      <td>1.25</td>\n",
       "      <td>Planning permission gr...</td>\n",
       "    </tr>\n",
       "    <tr>\n",
       "      <th>71</th>\n",
       "      <td>47678712</td>\n",
       "      <td>West Drayton</td>\n",
       "      <td>Colham Avenue, West Drayton, Middlesex UB7</td>\n",
       "      <td>3.0</td>\n",
       "      <td>1.0</td>\n",
       "      <td>125000</td>\n",
       "      <td>2.0</td>\n",
       "      <td>0.0</td>\n",
       "      <td>8th May 2018</td>\n",
       "      <td>375000</td>\n",
       "      <td>375000</td>\n",
       "      <td>https://www.zoopla.co.uk/for-sale/details/4767...</td>\n",
       "      <td>https://c.zoocdn.com/dynimgs/listings/resized/...</td>\n",
       "      <td>NaN</td>\n",
       "      <td>2</td>\n",
       "      <td>0.2</td>\n",
       "      <td>1.25</td>\n",
       "      <td>No chain this three be...</td>\n",
       "    </tr>\n",
       "    <tr>\n",
       "      <th>202</th>\n",
       "      <td>45117263</td>\n",
       "      <td>West Drayton</td>\n",
       "      <td>Money Lane, West Drayton UB7</td>\n",
       "      <td>4.0</td>\n",
       "      <td>2.0</td>\n",
       "      <td>125000</td>\n",
       "      <td>2.0</td>\n",
       "      <td>0.0</td>\n",
       "      <td>8th Sep 2017</td>\n",
       "      <td>500000</td>\n",
       "      <td>500000</td>\n",
       "      <td>https://www.zoopla.co.uk/for-sale/details/4511...</td>\n",
       "      <td>https://c.zoocdn.com/dynimgs/listings/resized/...</td>\n",
       "      <td>NaN</td>\n",
       "      <td>2</td>\n",
       "      <td>0.6</td>\n",
       "      <td>1.25</td>\n",
       "      <td>An exciting and rare o...</td>\n",
       "    </tr>\n",
       "    <tr>\n",
       "      <th>92</th>\n",
       "      <td>47522946</td>\n",
       "      <td>West Drayton</td>\n",
       "      <td>Philpots Close, West Drayton UB7</td>\n",
       "      <td>1.0</td>\n",
       "      <td>1.0</td>\n",
       "      <td>270000</td>\n",
       "      <td>1.0</td>\n",
       "      <td>0.0</td>\n",
       "      <td>5th May 2018</td>\n",
       "      <td>270000</td>\n",
       "      <td>270000</td>\n",
       "      <td>https://www.zoopla.co.uk/for-sale/details/4752...</td>\n",
       "      <td>NaN</td>\n",
       "      <td>NaN</td>\n",
       "      <td>2</td>\n",
       "      <td>0.5</td>\n",
       "      <td>1.25</td>\n",
       "      <td>This well presented on...</td>\n",
       "    </tr>\n",
       "  </tbody>\n",
       "</table>\n",
       "</div>"
      ],
      "text/plain": [
       "           ID          Area                                     Address  \\\n",
       "56   47766507  West Drayton         Kiln Lodge, Yiewsley, Middlesex UB7   \n",
       "29   47950352  West Drayton             Stainby Close, West Drayton UB7   \n",
       "71   47678712  West Drayton  Colham Avenue, West Drayton, Middlesex UB7   \n",
       "202  45117263  West Drayton                Money Lane, West Drayton UB7   \n",
       "92   47522946  West Drayton            Philpots Close, West Drayton UB7   \n",
       "\n",
       "     Bedrooms  Bathrooms  Price per bedroom  Reception  Size  First Listed  \\\n",
       "56        2.0        2.0             164975        1.0   0.0  5th May 2018   \n",
       "29        4.0        2.0             150000        3.0   0.0  1th Jun 2018   \n",
       "71        3.0        1.0             125000        2.0   0.0  8th May 2018   \n",
       "202       4.0        2.0             125000        2.0   0.0  8th Sep 2017   \n",
       "92        1.0        1.0             270000        1.0   0.0  5th May 2018   \n",
       "\n",
       "    Original price Current price  \\\n",
       "56          329950        329950   \n",
       "29          600000        600000   \n",
       "71          375000        375000   \n",
       "202         500000        500000   \n",
       "92          270000        270000   \n",
       "\n",
       "                                                   URL  \\\n",
       "56   https://www.zoopla.co.uk/for-sale/details/4776...   \n",
       "29   https://www.zoopla.co.uk/for-sale/details/4795...   \n",
       "71   https://www.zoopla.co.uk/for-sale/details/4767...   \n",
       "202  https://www.zoopla.co.uk/for-sale/details/4511...   \n",
       "92   https://www.zoopla.co.uk/for-sale/details/4752...   \n",
       "\n",
       "                                        FLOORPLAN LINK  New  \\\n",
       "56   https://c.zoocdn.com/dynimgs/listings/resized/...  NaN   \n",
       "29   https://c.zoocdn.com/dynimgs/listings/resized/...  NaN   \n",
       "71   https://c.zoocdn.com/dynimgs/listings/resized/...  NaN   \n",
       "202  https://c.zoocdn.com/dynimgs/listings/resized/...  NaN   \n",
       "92                                                 NaN  NaN   \n",
       "\n",
       "     Number of the closest stations  Min. dist. to station  Evaluation  \\\n",
       "56                                2                    0.4        1.40   \n",
       "29                                2                    0.7        1.25   \n",
       "71                                2                    0.2        1.25   \n",
       "202                               2                    0.6        1.25   \n",
       "92                                2                    0.5        1.25   \n",
       "\n",
       "                                           Description  \n",
       "56                           A second floor luxury ...  \n",
       "29                           Planning permission gr...  \n",
       "71                           No chain this three be...  \n",
       "202                          An exciting and rare o...  \n",
       "92                           This well presented on...  "
      ]
     },
     "execution_count": 115,
     "metadata": {},
     "output_type": "execute_result"
    }
   ],
   "source": [
    "df.head(5)"
   ]
  },
  {
   "cell_type": "markdown",
   "metadata": {},
   "source": [
    "<h2># SQL tests on Python dataframes (Pandas)</h2>"
   ]
  },
  {
   "cell_type": "code",
   "execution_count": 116,
   "metadata": {},
   "outputs": [],
   "source": [
    "sql_test = df[(df['Bedrooms'] == 2) & ((df['Evaluation'] > 1))]"
   ]
  },
  {
   "cell_type": "code",
   "execution_count": 117,
   "metadata": {},
   "outputs": [],
   "source": [
    "TrainingSet = df[(df['Bedrooms'] == 2) | (df['Bedrooms'] == 3) | (df['Bedrooms'] == 4)]"
   ]
  },
  {
   "cell_type": "markdown",
   "metadata": {},
   "source": [
    "<p>The training set is defined above as <code>training_set</code></p>"
   ]
  },
  {
   "cell_type": "markdown",
   "metadata": {},
   "source": [
    "<p><u>Test set</u> is below</p>"
   ]
  },
  {
   "cell_type": "code",
   "execution_count": 118,
   "metadata": {},
   "outputs": [],
   "source": [
    "TrainingSet.to_csv('TestSet_20180628_WD_SALES.csv')"
   ]
  },
  {
   "cell_type": "code",
   "execution_count": 119,
   "metadata": {},
   "outputs": [
    {
     "data": {
      "text/html": [
       "<div>\n",
       "<style scoped>\n",
       "    .dataframe tbody tr th:only-of-type {\n",
       "        vertical-align: middle;\n",
       "    }\n",
       "\n",
       "    .dataframe tbody tr th {\n",
       "        vertical-align: top;\n",
       "    }\n",
       "\n",
       "    .dataframe thead th {\n",
       "        text-align: right;\n",
       "    }\n",
       "</style>\n",
       "<table border=\"1\" class=\"dataframe\">\n",
       "  <thead>\n",
       "    <tr style=\"text-align: right;\">\n",
       "      <th></th>\n",
       "      <th>ID</th>\n",
       "      <th>Bedrooms</th>\n",
       "      <th>Bathrooms</th>\n",
       "      <th>Price per bedroom</th>\n",
       "      <th>Reception</th>\n",
       "      <th>Size</th>\n",
       "      <th>Number of the closest stations</th>\n",
       "      <th>Min. dist. to station</th>\n",
       "      <th>Evaluation</th>\n",
       "    </tr>\n",
       "  </thead>\n",
       "  <tbody>\n",
       "    <tr>\n",
       "      <th>count</th>\n",
       "      <td>7.000000e+00</td>\n",
       "      <td>7.000000</td>\n",
       "      <td>7.000000</td>\n",
       "      <td>7.000000</td>\n",
       "      <td>7.000000</td>\n",
       "      <td>7.000000</td>\n",
       "      <td>7.0</td>\n",
       "      <td>7.000000</td>\n",
       "      <td>7.000000</td>\n",
       "    </tr>\n",
       "    <tr>\n",
       "      <th>mean</th>\n",
       "      <td>4.742474e+07</td>\n",
       "      <td>2.428571</td>\n",
       "      <td>1.714286</td>\n",
       "      <td>199330.714286</td>\n",
       "      <td>0.857143</td>\n",
       "      <td>902.571429</td>\n",
       "      <td>2.0</td>\n",
       "      <td>0.371429</td>\n",
       "      <td>0.607143</td>\n",
       "    </tr>\n",
       "    <tr>\n",
       "      <th>std</th>\n",
       "      <td>6.823098e+05</td>\n",
       "      <td>0.534522</td>\n",
       "      <td>0.487950</td>\n",
       "      <td>39201.521649</td>\n",
       "      <td>0.899735</td>\n",
       "      <td>212.710176</td>\n",
       "      <td>0.0</td>\n",
       "      <td>0.249762</td>\n",
       "      <td>0.304725</td>\n",
       "    </tr>\n",
       "    <tr>\n",
       "      <th>min</th>\n",
       "      <td>4.610930e+07</td>\n",
       "      <td>2.000000</td>\n",
       "      <td>1.000000</td>\n",
       "      <td>139500.000000</td>\n",
       "      <td>0.000000</td>\n",
       "      <td>657.000000</td>\n",
       "      <td>2.0</td>\n",
       "      <td>0.100000</td>\n",
       "      <td>0.400000</td>\n",
       "    </tr>\n",
       "    <tr>\n",
       "      <th>25%</th>\n",
       "      <td>4.718968e+07</td>\n",
       "      <td>2.000000</td>\n",
       "      <td>1.500000</td>\n",
       "      <td>178324.500000</td>\n",
       "      <td>0.000000</td>\n",
       "      <td>753.000000</td>\n",
       "      <td>2.0</td>\n",
       "      <td>0.300000</td>\n",
       "      <td>0.400000</td>\n",
       "    </tr>\n",
       "    <tr>\n",
       "      <th>50%</th>\n",
       "      <td>4.782884e+07</td>\n",
       "      <td>2.000000</td>\n",
       "      <td>2.000000</td>\n",
       "      <td>212500.000000</td>\n",
       "      <td>1.000000</td>\n",
       "      <td>813.000000</td>\n",
       "      <td>2.0</td>\n",
       "      <td>0.300000</td>\n",
       "      <td>0.550000</td>\n",
       "    </tr>\n",
       "    <tr>\n",
       "      <th>75%</th>\n",
       "      <td>4.782896e+07</td>\n",
       "      <td>3.000000</td>\n",
       "      <td>2.000000</td>\n",
       "      <td>222500.000000</td>\n",
       "      <td>1.500000</td>\n",
       "      <td>1061.000000</td>\n",
       "      <td>2.0</td>\n",
       "      <td>0.350000</td>\n",
       "      <td>0.625000</td>\n",
       "    </tr>\n",
       "    <tr>\n",
       "      <th>max</th>\n",
       "      <td>4.799772e+07</td>\n",
       "      <td>3.000000</td>\n",
       "      <td>2.000000</td>\n",
       "      <td>241666.000000</td>\n",
       "      <td>2.000000</td>\n",
       "      <td>1220.000000</td>\n",
       "      <td>2.0</td>\n",
       "      <td>0.900000</td>\n",
       "      <td>1.250000</td>\n",
       "    </tr>\n",
       "  </tbody>\n",
       "</table>\n",
       "</div>"
      ],
      "text/plain": [
       "                 ID  Bedrooms  Bathrooms  Price per bedroom  Reception  \\\n",
       "count  7.000000e+00  7.000000   7.000000           7.000000   7.000000   \n",
       "mean   4.742474e+07  2.428571   1.714286      199330.714286   0.857143   \n",
       "std    6.823098e+05  0.534522   0.487950       39201.521649   0.899735   \n",
       "min    4.610930e+07  2.000000   1.000000      139500.000000   0.000000   \n",
       "25%    4.718968e+07  2.000000   1.500000      178324.500000   0.000000   \n",
       "50%    4.782884e+07  2.000000   2.000000      212500.000000   1.000000   \n",
       "75%    4.782896e+07  3.000000   2.000000      222500.000000   1.500000   \n",
       "max    4.799772e+07  3.000000   2.000000      241666.000000   2.000000   \n",
       "\n",
       "              Size  Number of the closest stations  Min. dist. to station  \\\n",
       "count     7.000000                             7.0               7.000000   \n",
       "mean    902.571429                             2.0               0.371429   \n",
       "std     212.710176                             0.0               0.249762   \n",
       "min     657.000000                             2.0               0.100000   \n",
       "25%     753.000000                             2.0               0.300000   \n",
       "50%     813.000000                             2.0               0.300000   \n",
       "75%    1061.000000                             2.0               0.350000   \n",
       "max    1220.000000                             2.0               0.900000   \n",
       "\n",
       "       Evaluation  \n",
       "count    7.000000  \n",
       "mean     0.607143  \n",
       "std      0.304725  \n",
       "min      0.400000  \n",
       "25%      0.400000  \n",
       "50%      0.550000  \n",
       "75%      0.625000  \n",
       "max      1.250000  "
      ]
     },
     "execution_count": 119,
     "metadata": {},
     "output_type": "execute_result"
    }
   ],
   "source": [
    "df[df['Size'] > 0].describe()"
   ]
  },
  {
   "cell_type": "code",
   "execution_count": 120,
   "metadata": {},
   "outputs": [
    {
     "data": {
      "text/plain": [
       "7"
      ]
     },
     "execution_count": 120,
     "metadata": {},
     "output_type": "execute_result"
    }
   ],
   "source": [
    "len(df[df['Size'] > 0])"
   ]
  },
  {
   "cell_type": "code",
   "execution_count": 121,
   "metadata": {},
   "outputs": [
    {
     "data": {
      "text/plain": [
       "162"
      ]
     },
     "execution_count": 121,
     "metadata": {},
     "output_type": "execute_result"
    }
   ],
   "source": [
    "len(TrainingSet)"
   ]
  },
  {
   "cell_type": "markdown",
   "metadata": {},
   "source": [
    "<h3># Plot scatter-plot (matplotlib)</h3>"
   ]
  },
  {
   "cell_type": "code",
   "execution_count": 122,
   "metadata": {},
   "outputs": [
    {
     "data": {
      "image/png": "[encoded data removed]",
      "text/plain": [
       "<matplotlib.figure.Figure at 0x22112a34a58>"
      ]
     },
     "metadata": {},
     "output_type": "display_data"
    }
   ],
   "source": [
    "# Generate plot\n",
    "sns.set_style('darkgrid')\n",
    "\n",
    "_ = plt.plot(df['Price per bedroom'], df['Evaluation'], marker = '.', linestyle = 'none', markersize = 5, color='#000000')\n",
    "_ = plt.margins(0.02)\n",
    "\n",
    "_ = plt.xlabel('Price per bedroom', fontsize = 16, family = 'Arial')\n",
    "_ = plt.ylabel('Evaluation', fontsize = 16)\n",
    "\n",
    "# Set axis style\n",
    "_ = plt.grid(b=True, which='major', color='#000000', linestyle='--')"
   ]
  }
 ],
 "metadata": {
  "kernelspec": {
   "display_name": "Python 3",
   "language": "python",
   "name": "python3"
  },
  "language_info": {
   "codemirror_mode": {
    "name": "ipython",
    "version": 3
   },
   "file_extension": ".py",
   "mimetype": "text/x-python",
   "name": "python",
   "nbconvert_exporter": "python",
   "pygments_lexer": "ipython3",
   "version": "3.6.4"
  }
 },
 "nbformat": 4,
 "nbformat_minor": 2
}
